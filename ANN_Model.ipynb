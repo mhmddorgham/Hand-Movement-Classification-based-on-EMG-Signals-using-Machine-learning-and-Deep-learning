{
 "cells": [
  {
   "cell_type": "code",
   "execution_count": 1,
   "metadata": {},
   "outputs": [],
   "source": [
    "import pandas as pd\n",
    "import tensorflow as tf\n",
    "import matplotlib.pyplot as plt\n",
    "import numpy as np"
   ]
  },
  {
   "cell_type": "code",
   "execution_count": 2,
   "metadata": {},
   "outputs": [
    {
     "name": "stdout",
     "output_type": "stream",
     "text": [
      "   time  channel1  channel2  channel3  channel4  channel5  channel6  channel7   \n",
      "0     1   0.00001  -0.00002  -0.00001  -0.00003   0.00000  -0.00001   0.00000  \\\n",
      "1     5   0.00001  -0.00002  -0.00001  -0.00003   0.00000  -0.00001   0.00000   \n",
      "2     6  -0.00001   0.00001   0.00002   0.00000   0.00001  -0.00002  -0.00001   \n",
      "3     7  -0.00001   0.00001   0.00002   0.00000   0.00001  -0.00002  -0.00001   \n",
      "4     8  -0.00001   0.00001   0.00002   0.00000   0.00001  -0.00002  -0.00001   \n",
      "\n",
      "   channel8  class  label  \n",
      "0  -0.00001      0      1  \n",
      "1  -0.00001      0      1  \n",
      "2   0.00001      0      1  \n",
      "3   0.00001      0      1  \n",
      "4   0.00001      0      1  \n",
      "(4237907, 11)\n"
     ]
    }
   ],
   "source": [
    "dataset=pd.read_csv(\"EMG-data.csv\") \n",
    "print(dataset.head())\n",
    "print(dataset.shape)\n"
   ]
  },
  {
   "cell_type": "code",
   "execution_count": 3,
   "metadata": {},
   "outputs": [
    {
     "name": "stdout",
     "output_type": "stream",
     "text": [
      "\n",
      "empty values: 0\n"
     ]
    }
   ],
   "source": [
    "print(\"\\nempty values:\",dataset.isnull().any().sum()) "
   ]
  },
  {
   "cell_type": "code",
   "execution_count": 4,
   "metadata": {},
   "outputs": [
    {
     "name": "stdout",
     "output_type": "stream",
     "text": [
      "[0 1 2 3 4 5 6 7]\n",
      "Value Count :\n",
      " class\n",
      "0    2725157\n",
      "6     253009\n",
      "5     251733\n",
      "4     251570\n",
      "1     250055\n",
      "3     249494\n",
      "2     243193\n",
      "7      13696\n",
      "Name: count, dtype: int64\n"
     ]
    }
   ],
   "source": [
    "dataset=dataset.drop(columns=[\"time\"])\n",
    "Class = dataset[\"class\"]\n",
    "print(Class.unique())\n",
    "print(\"Value Count :\\n\", dataset[\"class\"].value_counts())"
   ]
  },
  {
   "cell_type": "code",
   "execution_count": 5,
   "metadata": {},
   "outputs": [],
   "source": [
    "##drop gesture 0 because it offers no information due to its unmarked nature\n",
    "index_numbers_1=dataset[dataset[\"class\"]==0].index \n",
    "dataset.drop(index_numbers_1,inplace=True)\n",
    "##drop gesture 7 because it offers no information due to it being performed \n",
    "##by just two out of 36 patients \n",
    "index_numbers_2=dataset[dataset[\"class\"]==7].index\n",
    "dataset.drop(index_numbers_2,inplace=True)"
   ]
  },
  {
   "cell_type": "code",
   "execution_count": 6,
   "metadata": {},
   "outputs": [],
   "source": [
    "dataset=dataset.groupby(['label','class'])"
   ]
  },
  {
   "cell_type": "code",
   "execution_count": 7,
   "metadata": {},
   "outputs": [],
   "source": [
    "##functions for extracting sEMG features\n",
    "def rms(data): ##root mean square\n",
    "      return  np.sqrt(np.mean(data**2,axis=0))  \n",
    "\n",
    "def SSI(data): ##Simple Square Integral\n",
    "    return np.sum(data**2,axis=0)\n",
    "\n",
    "def abs_diffs_signal(data): ##absolute differential signal\n",
    "    return np.sum(np.abs(np.diff(data,axis=0)),axis=0)\n",
    "\n",
    "##function for returning an estimator class name \n",
    "def print_estimator_name(estimator):\n",
    "    return estimator.__class__.__name__"
   ]
  },
  {
   "cell_type": "code",
   "execution_count": 8,
   "metadata": {},
   "outputs": [],
   "source": [
    "##tabulating the aggregated sEMG features\n",
    "dataset=dataset.agg(['min','max',rms,SSI,abs_diffs_signal,np.ptp])"
   ]
  },
  {
   "cell_type": "code",
   "execution_count": 9,
   "metadata": {},
   "outputs": [
    {
     "data": {
      "text/html": [
       "<div>\n",
       "<style scoped>\n",
       "    .dataframe tbody tr th:only-of-type {\n",
       "        vertical-align: middle;\n",
       "    }\n",
       "\n",
       "    .dataframe tbody tr th {\n",
       "        vertical-align: top;\n",
       "    }\n",
       "\n",
       "    .dataframe thead tr th {\n",
       "        text-align: left;\n",
       "    }\n",
       "</style>\n",
       "<table border=\"1\" class=\"dataframe\">\n",
       "  <thead>\n",
       "    <tr>\n",
       "      <th></th>\n",
       "      <th>label</th>\n",
       "      <th>class</th>\n",
       "      <th colspan=\"6\" halign=\"left\">channel1</th>\n",
       "      <th colspan=\"2\" halign=\"left\">channel2</th>\n",
       "      <th>...</th>\n",
       "      <th colspan=\"4\" halign=\"left\">channel7</th>\n",
       "      <th colspan=\"6\" halign=\"left\">channel8</th>\n",
       "    </tr>\n",
       "    <tr>\n",
       "      <th></th>\n",
       "      <th></th>\n",
       "      <th></th>\n",
       "      <th>min</th>\n",
       "      <th>max</th>\n",
       "      <th>rms</th>\n",
       "      <th>SSI</th>\n",
       "      <th>abs_diffs_signal</th>\n",
       "      <th>ptp</th>\n",
       "      <th>min</th>\n",
       "      <th>max</th>\n",
       "      <th>...</th>\n",
       "      <th>rms</th>\n",
       "      <th>SSI</th>\n",
       "      <th>abs_diffs_signal</th>\n",
       "      <th>ptp</th>\n",
       "      <th>min</th>\n",
       "      <th>max</th>\n",
       "      <th>rms</th>\n",
       "      <th>SSI</th>\n",
       "      <th>abs_diffs_signal</th>\n",
       "      <th>ptp</th>\n",
       "    </tr>\n",
       "  </thead>\n",
       "  <tbody>\n",
       "    <tr>\n",
       "      <th>0</th>\n",
       "      <td>1</td>\n",
       "      <td>1</td>\n",
       "      <td>-0.00005</td>\n",
       "      <td>0.00004</td>\n",
       "      <td>0.000017</td>\n",
       "      <td>0.000002</td>\n",
       "      <td>0.01070</td>\n",
       "      <td>0.00009</td>\n",
       "      <td>-0.00010</td>\n",
       "      <td>0.00007</td>\n",
       "      <td>...</td>\n",
       "      <td>0.000013</td>\n",
       "      <td>0.000001</td>\n",
       "      <td>0.00870</td>\n",
       "      <td>0.00006</td>\n",
       "      <td>-0.00005</td>\n",
       "      <td>0.00002</td>\n",
       "      <td>0.000014</td>\n",
       "      <td>0.000001</td>\n",
       "      <td>0.00921</td>\n",
       "      <td>0.00007</td>\n",
       "    </tr>\n",
       "    <tr>\n",
       "      <th>1</th>\n",
       "      <td>1</td>\n",
       "      <td>2</td>\n",
       "      <td>-0.00111</td>\n",
       "      <td>0.00095</td>\n",
       "      <td>0.000210</td>\n",
       "      <td>0.000301</td>\n",
       "      <td>0.16819</td>\n",
       "      <td>0.00206</td>\n",
       "      <td>-0.00047</td>\n",
       "      <td>0.00041</td>\n",
       "      <td>...</td>\n",
       "      <td>0.000216</td>\n",
       "      <td>0.000318</td>\n",
       "      <td>0.16251</td>\n",
       "      <td>0.00153</td>\n",
       "      <td>-0.00070</td>\n",
       "      <td>0.00054</td>\n",
       "      <td>0.000150</td>\n",
       "      <td>0.000153</td>\n",
       "      <td>0.11696</td>\n",
       "      <td>0.00124</td>\n",
       "    </tr>\n",
       "    <tr>\n",
       "      <th>2</th>\n",
       "      <td>1</td>\n",
       "      <td>3</td>\n",
       "      <td>-0.00087</td>\n",
       "      <td>0.00112</td>\n",
       "      <td>0.000188</td>\n",
       "      <td>0.000260</td>\n",
       "      <td>0.14544</td>\n",
       "      <td>0.00199</td>\n",
       "      <td>-0.00113</td>\n",
       "      <td>0.00127</td>\n",
       "      <td>...</td>\n",
       "      <td>0.000078</td>\n",
       "      <td>0.000044</td>\n",
       "      <td>0.05866</td>\n",
       "      <td>0.00063</td>\n",
       "      <td>-0.00073</td>\n",
       "      <td>0.00051</td>\n",
       "      <td>0.000161</td>\n",
       "      <td>0.000190</td>\n",
       "      <td>0.11869</td>\n",
       "      <td>0.00124</td>\n",
       "    </tr>\n",
       "    <tr>\n",
       "      <th>3</th>\n",
       "      <td>1</td>\n",
       "      <td>4</td>\n",
       "      <td>-0.00020</td>\n",
       "      <td>0.00016</td>\n",
       "      <td>0.000056</td>\n",
       "      <td>0.000022</td>\n",
       "      <td>0.03609</td>\n",
       "      <td>0.00036</td>\n",
       "      <td>-0.00038</td>\n",
       "      <td>0.00024</td>\n",
       "      <td>...</td>\n",
       "      <td>0.000118</td>\n",
       "      <td>0.000095</td>\n",
       "      <td>0.07517</td>\n",
       "      <td>0.00090</td>\n",
       "      <td>-0.00032</td>\n",
       "      <td>0.00026</td>\n",
       "      <td>0.000083</td>\n",
       "      <td>0.000047</td>\n",
       "      <td>0.04984</td>\n",
       "      <td>0.00058</td>\n",
       "    </tr>\n",
       "    <tr>\n",
       "      <th>4</th>\n",
       "      <td>1</td>\n",
       "      <td>5</td>\n",
       "      <td>-0.00031</td>\n",
       "      <td>0.00061</td>\n",
       "      <td>0.000066</td>\n",
       "      <td>0.000030</td>\n",
       "      <td>0.04939</td>\n",
       "      <td>0.00092</td>\n",
       "      <td>-0.00066</td>\n",
       "      <td>0.00035</td>\n",
       "      <td>...</td>\n",
       "      <td>0.000084</td>\n",
       "      <td>0.000049</td>\n",
       "      <td>0.06768</td>\n",
       "      <td>0.00055</td>\n",
       "      <td>-0.00030</td>\n",
       "      <td>0.00045</td>\n",
       "      <td>0.000060</td>\n",
       "      <td>0.000025</td>\n",
       "      <td>0.04606</td>\n",
       "      <td>0.00075</td>\n",
       "    </tr>\n",
       "  </tbody>\n",
       "</table>\n",
       "<p>5 rows × 50 columns</p>\n",
       "</div>"
      ],
      "text/plain": [
       "  label class channel1                                                          \n",
       "                   min      max       rms       SSI abs_diffs_signal      ptp   \n",
       "0     1     1 -0.00005  0.00004  0.000017  0.000002          0.01070  0.00009  \\\n",
       "1     1     2 -0.00111  0.00095  0.000210  0.000301          0.16819  0.00206   \n",
       "2     1     3 -0.00087  0.00112  0.000188  0.000260          0.14544  0.00199   \n",
       "3     1     4 -0.00020  0.00016  0.000056  0.000022          0.03609  0.00036   \n",
       "4     1     5 -0.00031  0.00061  0.000066  0.000030          0.04939  0.00092   \n",
       "\n",
       "  channel2           ...  channel7                                       \n",
       "       min      max  ...       rms       SSI abs_diffs_signal      ptp   \n",
       "0 -0.00010  0.00007  ...  0.000013  0.000001          0.00870  0.00006  \\\n",
       "1 -0.00047  0.00041  ...  0.000216  0.000318          0.16251  0.00153   \n",
       "2 -0.00113  0.00127  ...  0.000078  0.000044          0.05866  0.00063   \n",
       "3 -0.00038  0.00024  ...  0.000118  0.000095          0.07517  0.00090   \n",
       "4 -0.00066  0.00035  ...  0.000084  0.000049          0.06768  0.00055   \n",
       "\n",
       "  channel8                                                         \n",
       "       min      max       rms       SSI abs_diffs_signal      ptp  \n",
       "0 -0.00005  0.00002  0.000014  0.000001          0.00921  0.00007  \n",
       "1 -0.00070  0.00054  0.000150  0.000153          0.11696  0.00124  \n",
       "2 -0.00073  0.00051  0.000161  0.000190          0.11869  0.00124  \n",
       "3 -0.00032  0.00026  0.000083  0.000047          0.04984  0.00058  \n",
       "4 -0.00030  0.00045  0.000060  0.000025          0.04606  0.00075  \n",
       "\n",
       "[5 rows x 50 columns]"
      ]
     },
     "execution_count": 9,
     "metadata": {},
     "output_type": "execute_result"
    }
   ],
   "source": [
    "dataset=dataset.reset_index()\n",
    "dataset.head()"
   ]
  },
  {
   "cell_type": "code",
   "execution_count": 10,
   "metadata": {},
   "outputs": [],
   "source": [
    "temp2=dataset"
   ]
  },
  {
   "cell_type": "code",
   "execution_count": 11,
   "metadata": {},
   "outputs": [],
   "source": [
    "from sklearn.model_selection import train_test_split\n",
    "from sklearn.metrics import f1_score\n",
    "from sklearn.metrics import confusion_matrix\n",
    "from sklearn.metrics import accuracy_score\n"
   ]
  },
  {
   "cell_type": "code",
   "execution_count": 12,
   "metadata": {},
   "outputs": [],
   "source": [
    "estimators=[]\n",
    "accuracy=[]\n",
    "f1_macro=[]"
   ]
  },
  {
   "cell_type": "code",
   "execution_count": 13,
   "metadata": {},
   "outputs": [
    {
     "name": "stderr",
     "output_type": "stream",
     "text": [
      "C:\\Users\\moham\\AppData\\Local\\Temp\\ipykernel_15892\\1506687212.py:1: PerformanceWarning: dropping on a non-lexsorted multi-index without a level parameter may impact performance.\n",
      "  features=dataset.drop(columns=[\"label\",\"class\"])\n"
     ]
    }
   ],
   "source": [
    "features=dataset.drop(columns=[\"label\",\"class\"])\n",
    "labels=dataset[\"class\"]"
   ]
  },
  {
   "cell_type": "code",
   "execution_count": 14,
   "metadata": {},
   "outputs": [],
   "source": [
    "##Training and testing set splitting\n",
    "X_train, X_test,y_train,y_test= train_test_split(features,labels,test_size=0.30, random_state=1)"
   ]
  },
  {
   "cell_type": "code",
   "execution_count": 15,
   "metadata": {},
   "outputs": [],
   "source": [
    "## Data normalization\n",
    "mean = X_train.mean(axis=0)\n",
    "std = X_train.std(axis=0)\n",
    "X_train -= mean\n",
    "X_train /= std\n",
    "X_test -= mean\n",
    "X_test /= std"
   ]
  },
  {
   "cell_type": "code",
   "execution_count": 16,
   "metadata": {},
   "outputs": [],
   "source": [
    "y_train = y_train -1\n",
    "y_test = y_test  - 1"
   ]
  },
  {
   "cell_type": "code",
   "execution_count": 17,
   "metadata": {},
   "outputs": [],
   "source": [
    "trainingtarget = y_train\n",
    "testtarget  = y_test\n",
    "\n",
    "from tensorflow.keras.utils import to_categorical\n",
    "# Convert labels to one-hot encoded format\n",
    "trainLabels  = to_categorical(trainingtarget)\n",
    "testLabels   = to_categorical(testtarget)"
   ]
  },
  {
   "cell_type": "code",
   "execution_count": 18,
   "metadata": {},
   "outputs": [],
   "source": [
    "# creating a function for plotting\n",
    "\n",
    "def plot(loss,val_loss,acc,val_acc):\n",
    "    loss = history.history['loss']\n",
    "    val_loss = history.history['val_loss']\n",
    "\n",
    "    epochs = range(1, len(loss) + 1)\n",
    "\n",
    "    plt.plot(epochs, loss, 'bo', label='Training loss')\n",
    "    plt.plot(epochs, val_loss, 'b', label='Validation loss')\n",
    "    plt.title('Training and validation loss')\n",
    "    plt.xlabel('Epochs')\n",
    "    plt.ylabel('Loss')\n",
    "    plt.legend()\n",
    "    plt.show()\n",
    "\n",
    "    acc = history.history['accuracy']\n",
    "    val_acc = history.history['val_accuracy']\n",
    "\n",
    "    epochs = range(1, len(acc) + 1)\n",
    "\n",
    "    plt.plot(epochs, acc, 'bo', label='Training acc')\n",
    "    plt.plot(epochs, val_acc, 'b', label='Validation acc')\n",
    "    plt.title('Training and validation acc')\n",
    "    plt.xlabel('Epochs')\n",
    "    plt.ylabel('acc')\n",
    "    plt.legend()\n",
    "    plt.show()"
   ]
  },
  {
   "cell_type": "code",
   "execution_count": 19,
   "metadata": {},
   "outputs": [],
   "source": [
    "from tensorflow.keras import layers, Sequential, optimizers, Input, Model\n",
    "\n",
    "model = Sequential([\n",
    "    layers.Dense(1024, input_shape=(48,), activation='relu'),\n",
    "    layers.Dense(512, activation='relu'),\n",
    "    layers.Dense(256, activation='relu'),\n",
    "    layers.Dropout(0.2),  # Adding dropout with a rate of 0.2\n",
    "    layers.Dense(128, activation='relu'),\n",
    "    layers.Dense(64, activation='relu'),\n",
    "    layers.Dropout(0.2),  # Adding dropout with a rate of 0.2\n",
    "    layers.Dense(32, activation='relu'),\n",
    "    layers.Dense(16, activation='relu'),\n",
    "    layers.Dense(6, activation='softmax')\n",
    "])\n"
   ]
  },
  {
   "cell_type": "code",
   "execution_count": 20,
   "metadata": {},
   "outputs": [],
   "source": [
    "# saving model, creating log for tensorboaed and applying few callbacks\n",
    " # This callback saves logs for visualization in TensorBoard. \n",
    "# uses the log_dir parameter to specify the directory where the logs will be saved.\n",
    "def callbacks(Log,Dir):\n",
    "  import tensorflow as tf\n",
    "  import os\n",
    "\n",
    "  Filepath = Path\n",
    "  logdir = os.path.join(Filepath, Dir)\n",
    "  callbacks_list = [tf.keras.callbacks.TensorBoard(\n",
    "                    log_dir=logdir,                 #  tensorboard log path      \n",
    "                    histogram_freq=1,),\n",
    "                    tf.keras.callbacks.EarlyStopping(   # stop if not improving\n",
    "                    monitor='val_accuracy',patience=2,),           # monitor validation accuracy\n",
    "                    tf.keras.callbacks.ModelCheckpoint(\n",
    "                    filepath= Filepath,             # save model path\n",
    "                    monitor='val_loss',             # only save best weights\n",
    "                    save_best_only=True,)]\n",
    "  return callbacks_list"
   ]
  },
  {
   "cell_type": "code",
   "execution_count": 21,
   "metadata": {},
   "outputs": [
    {
     "name": "stdout",
     "output_type": "stream",
     "text": [
      "Model: \"sequential\"\n",
      "_________________________________________________________________\n",
      " Layer (type)                Output Shape              Param #   \n",
      "=================================================================\n",
      " dense (Dense)               (None, 1024)              50176     \n",
      "                                                                 \n",
      " dense_1 (Dense)             (None, 512)               524800    \n",
      "                                                                 \n",
      " dense_2 (Dense)             (None, 256)               131328    \n",
      "                                                                 \n",
      " dropout (Dropout)           (None, 256)               0         \n",
      "                                                                 \n",
      " dense_3 (Dense)             (None, 128)               32896     \n",
      "                                                                 \n",
      " dense_4 (Dense)             (None, 64)                8256      \n",
      "                                                                 \n",
      " dropout_1 (Dropout)         (None, 64)                0         \n",
      "                                                                 \n",
      " dense_5 (Dense)             (None, 32)                2080      \n",
      "                                                                 \n",
      " dense_6 (Dense)             (None, 16)                528       \n",
      "                                                                 \n",
      " dense_7 (Dense)             (None, 6)                 102       \n",
      "                                                                 \n",
      "=================================================================\n",
      "Total params: 750,166\n",
      "Trainable params: 750,166\n",
      "Non-trainable params: 0\n",
      "_________________________________________________________________\n"
     ]
    }
   ],
   "source": [
    "# from tensorflow.keras.callbacks import EarlyStopping\n",
    "# early_stopping = EarlyStopping(monitor=\"loss\",patience=3)\n",
    "\n",
    "model.compile(optimizer='adam',\n",
    "              loss='categorical_crossentropy',\n",
    "              metrics=['accuracy'])\n",
    "model.summary()"
   ]
  },
  {
   "cell_type": "code",
   "execution_count": 22,
   "metadata": {},
   "outputs": [
    {
     "name": "stdout",
     "output_type": "stream",
     "text": [
      "Epoch 1/200\n",
      "1/1 [==============================] - ETA: 0s - loss: 1.7915 - accuracy: 0.2000"
     ]
    },
    {
     "name": "stderr",
     "output_type": "stream",
     "text": [
      "WARNING:absl:Found untraced functions such as _update_step_xla while saving (showing 1 of 1). These functions will not be directly callable after loading.\n"
     ]
    },
    {
     "name": "stdout",
     "output_type": "stream",
     "text": [
      "INFO:tensorflow:Assets written to: my_model_one\\assets\n"
     ]
    },
    {
     "name": "stderr",
     "output_type": "stream",
     "text": [
      "INFO:tensorflow:Assets written to: my_model_one\\assets\n"
     ]
    },
    {
     "name": "stdout",
     "output_type": "stream",
     "text": [
      "1/1 [==============================] - 6s 6s/step - loss: 1.7915 - accuracy: 0.2000 - val_loss: 1.7456 - val_accuracy: 0.4130\n",
      "Epoch 2/200\n",
      "1/1 [==============================] - ETA: 0s - loss: 1.7151 - accuracy: 0.4667"
     ]
    },
    {
     "name": "stderr",
     "output_type": "stream",
     "text": [
      "WARNING:absl:Found untraced functions such as _update_step_xla while saving (showing 1 of 1). These functions will not be directly callable after loading.\n"
     ]
    },
    {
     "name": "stdout",
     "output_type": "stream",
     "text": [
      "INFO:tensorflow:Assets written to: my_model_one\\assets\n"
     ]
    },
    {
     "name": "stderr",
     "output_type": "stream",
     "text": [
      "INFO:tensorflow:Assets written to: my_model_one\\assets\n"
     ]
    },
    {
     "name": "stdout",
     "output_type": "stream",
     "text": [
      "1/1 [==============================] - 3s 3s/step - loss: 1.7151 - accuracy: 0.4667 - val_loss: 1.6952 - val_accuracy: 0.4348\n",
      "Epoch 3/200\n",
      "1/1 [==============================] - ETA: 0s - loss: 1.6286 - accuracy: 0.4762"
     ]
    },
    {
     "name": "stderr",
     "output_type": "stream",
     "text": [
      "WARNING:absl:Found untraced functions such as _update_step_xla while saving (showing 1 of 1). These functions will not be directly callable after loading.\n"
     ]
    },
    {
     "name": "stdout",
     "output_type": "stream",
     "text": [
      "INFO:tensorflow:Assets written to: my_model_one\\assets\n"
     ]
    },
    {
     "name": "stderr",
     "output_type": "stream",
     "text": [
      "INFO:tensorflow:Assets written to: my_model_one\\assets\n"
     ]
    },
    {
     "name": "stdout",
     "output_type": "stream",
     "text": [
      "1/1 [==============================] - 2s 2s/step - loss: 1.6286 - accuracy: 0.4762 - val_loss: 1.6346 - val_accuracy: 0.3913\n",
      "Epoch 4/200\n",
      "1/1 [==============================] - ETA: 0s - loss: 1.5177 - accuracy: 0.5048"
     ]
    },
    {
     "name": "stderr",
     "output_type": "stream",
     "text": [
      "WARNING:absl:Found untraced functions such as _update_step_xla while saving (showing 1 of 1). These functions will not be directly callable after loading.\n"
     ]
    },
    {
     "name": "stdout",
     "output_type": "stream",
     "text": [
      "INFO:tensorflow:Assets written to: my_model_one\\assets\n"
     ]
    },
    {
     "name": "stderr",
     "output_type": "stream",
     "text": [
      "INFO:tensorflow:Assets written to: my_model_one\\assets\n"
     ]
    },
    {
     "name": "stdout",
     "output_type": "stream",
     "text": [
      "1/1 [==============================] - 3s 3s/step - loss: 1.5177 - accuracy: 0.5048 - val_loss: 1.5635 - val_accuracy: 0.4783\n",
      "Epoch 5/200\n",
      "1/1 [==============================] - ETA: 0s - loss: 1.3781 - accuracy: 0.5143"
     ]
    },
    {
     "name": "stderr",
     "output_type": "stream",
     "text": [
      "WARNING:absl:Found untraced functions such as _update_step_xla while saving (showing 1 of 1). These functions will not be directly callable after loading.\n"
     ]
    },
    {
     "name": "stdout",
     "output_type": "stream",
     "text": [
      "INFO:tensorflow:Assets written to: my_model_one\\assets\n"
     ]
    },
    {
     "name": "stderr",
     "output_type": "stream",
     "text": [
      "INFO:tensorflow:Assets written to: my_model_one\\assets\n"
     ]
    },
    {
     "name": "stdout",
     "output_type": "stream",
     "text": [
      "1/1 [==============================] - 2s 2s/step - loss: 1.3781 - accuracy: 0.5143 - val_loss: 1.4752 - val_accuracy: 0.5435\n",
      "Epoch 6/200\n",
      "1/1 [==============================] - ETA: 0s - loss: 1.3016 - accuracy: 0.5048"
     ]
    },
    {
     "name": "stderr",
     "output_type": "stream",
     "text": [
      "WARNING:absl:Found untraced functions such as _update_step_xla while saving (showing 1 of 1). These functions will not be directly callable after loading.\n"
     ]
    },
    {
     "name": "stdout",
     "output_type": "stream",
     "text": [
      "INFO:tensorflow:Assets written to: my_model_one\\assets\n"
     ]
    },
    {
     "name": "stderr",
     "output_type": "stream",
     "text": [
      "INFO:tensorflow:Assets written to: my_model_one\\assets\n"
     ]
    },
    {
     "name": "stdout",
     "output_type": "stream",
     "text": [
      "1/1 [==============================] - 2s 2s/step - loss: 1.3016 - accuracy: 0.5048 - val_loss: 1.3991 - val_accuracy: 0.5435\n",
      "Epoch 7/200\n",
      "1/1 [==============================] - ETA: 0s - loss: 1.1688 - accuracy: 0.5333"
     ]
    },
    {
     "name": "stderr",
     "output_type": "stream",
     "text": [
      "WARNING:absl:Found untraced functions such as _update_step_xla while saving (showing 1 of 1). These functions will not be directly callable after loading.\n"
     ]
    },
    {
     "name": "stdout",
     "output_type": "stream",
     "text": [
      "INFO:tensorflow:Assets written to: my_model_one\\assets\n"
     ]
    },
    {
     "name": "stderr",
     "output_type": "stream",
     "text": [
      "INFO:tensorflow:Assets written to: my_model_one\\assets\n"
     ]
    },
    {
     "name": "stdout",
     "output_type": "stream",
     "text": [
      "1/1 [==============================] - 2s 2s/step - loss: 1.1688 - accuracy: 0.5333 - val_loss: 1.3186 - val_accuracy: 0.5000\n",
      "Model: \"sequential\"\n",
      "_________________________________________________________________\n",
      " Layer (type)                Output Shape              Param #   \n",
      "=================================================================\n",
      " dense (Dense)               (None, 1024)              50176     \n",
      "                                                                 \n",
      " dense_1 (Dense)             (None, 512)               524800    \n",
      "                                                                 \n",
      " dense_2 (Dense)             (None, 256)               131328    \n",
      "                                                                 \n",
      " dropout (Dropout)           (None, 256)               0         \n",
      "                                                                 \n",
      " dense_3 (Dense)             (None, 128)               32896     \n",
      "                                                                 \n",
      " dense_4 (Dense)             (None, 64)                8256      \n",
      "                                                                 \n",
      " dropout_1 (Dropout)         (None, 64)                0         \n",
      "                                                                 \n",
      " dense_5 (Dense)             (None, 32)                2080      \n",
      "                                                                 \n",
      " dense_6 (Dense)             (None, 16)                528       \n",
      "                                                                 \n",
      " dense_7 (Dense)             (None, 6)                 102       \n",
      "                                                                 \n",
      "=================================================================\n",
      "Total params: 750,166\n",
      "Trainable params: 750,166\n",
      "Non-trainable params: 0\n",
      "_________________________________________________________________\n"
     ]
    }
   ],
   "source": [
    "Path = \"my_model_one\"\n",
    "Dir = \"my_log_dir\"   \n",
    "Call_B_Fun = callbacks(Path,Dir)\n",
    "\n",
    "batch_size = 512            \n",
    "epochs = 200                \n",
    "          \n",
    "\n",
    "history = model.fit(X_train,trainLabels,\n",
    "                    batch_size=batch_size,\n",
    "                    epochs = epochs,\n",
    "                    validation_split = 0.3,\n",
    "                    callbacks=Call_B_Fun\n",
    "                     )\n",
    "\n",
    "model.summary()"
   ]
  },
  {
   "cell_type": "code",
   "execution_count": 23,
   "metadata": {},
   "outputs": [
    {
     "data": {
      "image/png": "[encoded data removed]",
      "text/plain": [
       "<Figure size 640x480 with 1 Axes>"
      ]
     },
     "metadata": {},
     "output_type": "display_data"
    },
    {
     "data": {
      "image/png": "[encoded data removed]",
      "text/plain": [
       "<Figure size 640x480 with 1 Axes>"
      ]
     },
     "metadata": {},
     "output_type": "display_data"
    }
   ],
   "source": [
    "loss = history.history['loss']\n",
    "val_loss = history.history['val_loss']\n",
    "acc = history.history['accuracy']\n",
    "val_acc = history.history['val_accuracy']\n",
    "plot(loss,val_loss,acc,val_acc)"
   ]
  },
  {
   "cell_type": "code",
   "execution_count": 24,
   "metadata": {},
   "outputs": [],
   "source": [
    "# saving our model\n",
    "model.save('my_model_one/emg_1.h5')"
   ]
  },
  {
   "cell_type": "code",
   "execution_count": 25,
   "metadata": {},
   "outputs": [],
   "source": [
    "# loading saved model\n",
    "from tensorflow.keras.models import load_model\n",
    "emg = 'my_model_one/emg_1.h5'\n",
    "emg_model = load_model(emg)"
   ]
  },
  {
   "cell_type": "code",
   "execution_count": 27,
   "metadata": {},
   "outputs": [
    {
     "name": "stdout",
     "output_type": "stream",
     "text": [
      "Model: \"model_1\"\n",
      "_________________________________________________________________\n",
      " Layer (type)                Output Shape              Param #   \n",
      "=================================================================\n",
      " dense_input (InputLayer)    [(None, 48)]              0         \n",
      "                                                                 \n",
      " dense (Dense)               (None, 1024)              50176     \n",
      "                                                                 \n",
      " dense_1 (Dense)             (None, 512)               524800    \n",
      "                                                                 \n",
      " dense_2 (Dense)             (None, 256)               131328    \n",
      "                                                                 \n",
      " dropout (Dropout)           (None, 256)               0         \n",
      "                                                                 \n",
      " dense_3 (Dense)             (None, 128)               32896     \n",
      "                                                                 \n",
      " dense_4 (Dense)             (None, 64)                8256      \n",
      "                                                                 \n",
      " dropout_1 (Dropout)         (None, 64)                0         \n",
      "                                                                 \n",
      " dense_5 (Dense)             (None, 32)                2080      \n",
      "                                                                 \n",
      " dense_6 (Dense)             (None, 16)                528       \n",
      "                                                                 \n",
      "=================================================================\n",
      "Total params: 750,064\n",
      "Trainable params: 750,064\n",
      "Non-trainable params: 0\n",
      "_________________________________________________________________\n"
     ]
    }
   ],
   "source": [
    "# Removing layers\n",
    "\n",
    "new_model = Model(emg_model.inputs,emg_model.layers[-2].output) # removing layers\n",
    "new_model.summary()"
   ]
  },
  {
   "cell_type": "code",
   "execution_count": 28,
   "metadata": {},
   "outputs": [
    {
     "name": "stdout",
     "output_type": "stream",
     "text": [
      "Model: \"model_2\"\n",
      "_________________________________________________________________\n",
      " Layer (type)                Output Shape              Param #   \n",
      "=================================================================\n",
      " input_1 (InputLayer)        [(None, 48)]              0         \n",
      "                                                                 \n",
      " model_1 (Functional)        (None, 16)                750064    \n",
      "                                                                 \n",
      " dense_8 (Dense)             (None, 6)                 102       \n",
      "                                                                 \n",
      "=================================================================\n",
      "Total params: 750,166\n",
      "Trainable params: 750,166\n",
      "Non-trainable params: 0\n",
      "_________________________________________________________________\n"
     ]
    }
   ],
   "source": [
    "from tensorflow.keras import layers, Input, Model\n",
    "\n",
    "input_tensor = Input(shape=(48,))\n",
    "x = new_model(input_tensor)       # this is our old model\n",
    "#z = layers.Dense(256, activation='relu')(x)\n",
    "output_tensor = layers.Dense(6, activation='softmax')(x)\n",
    "\n",
    "model = Model(input_tensor, output_tensor)\n",
    "\n",
    "model.compile(optimizer = \"adam\", \n",
    "              loss = \"categorical_crossentropy\",\n",
    "              metrics = [\"accuracy\"])\n",
    "\n",
    "model.summary()"
   ]
  },
  {
   "cell_type": "code",
   "execution_count": 29,
   "metadata": {},
   "outputs": [],
   "source": [
    "def callbacks(Log,Dir):\n",
    "  import tensorflow as tf\n",
    "  import os\n",
    "\n",
    "  Filepath = Path\n",
    "  logdir = os.path.join(Filepath, Dir)\n",
    "  \n",
    "  callbacks_list = [tf.keras.callbacks.TensorBoard(\n",
    "                    log_dir=logdir,                 #  tensorboard log path      \n",
    "                    histogram_freq=1,),\n",
    "                    tf.keras.callbacks.EarlyStopping(   # stop if not improving\n",
    "                    monitor='val_loss',patience=2,),           # monitor validation loss\n",
    "                    tf.keras.callbacks.ReduceLROnPlateau(\n",
    "                    monitor='val_loss',factor=0.1,         # lr ko .1 se multiply kerdo (kam kerdo)\n",
    "                    patience=10,),                # reduce the lrate if val loss stop improving\n",
    "                    tf.keras.callbacks.ModelCheckpoint(\n",
    "                    filepath= Filepath,             # save model path\n",
    "                    monitor='val_loss',             # only save best weights\n",
    "                    save_best_only=True,)]\n",
    "  return callbacks_list"
   ]
  },
  {
   "cell_type": "code",
   "execution_count": 30,
   "metadata": {},
   "outputs": [
    {
     "name": "stdout",
     "output_type": "stream",
     "text": [
      "Epoch 1/200\n",
      "1/1 [==============================] - ETA: 0s - loss: 2.0127 - accuracy: 0.1583"
     ]
    },
    {
     "name": "stderr",
     "output_type": "stream",
     "text": [
      "WARNING:absl:Found untraced functions such as _update_step_xla while saving (showing 1 of 1). These functions will not be directly callable after loading.\n"
     ]
    },
    {
     "name": "stdout",
     "output_type": "stream",
     "text": [
      "INFO:tensorflow:Assets written to: my_model_2\\assets\n"
     ]
    },
    {
     "name": "stderr",
     "output_type": "stream",
     "text": [
      "INFO:tensorflow:Assets written to: my_model_2\\assets\n"
     ]
    },
    {
     "name": "stdout",
     "output_type": "stream",
     "text": [
      "1/1 [==============================] - 6s 6s/step - loss: 2.0127 - accuracy: 0.1583 - val_loss: 1.7253 - val_accuracy: 0.0645 - lr: 0.0010\n",
      "Epoch 2/200\n",
      "1/1 [==============================] - ETA: 0s - loss: 1.5567 - accuracy: 0.3083"
     ]
    },
    {
     "name": "stderr",
     "output_type": "stream",
     "text": [
      "WARNING:absl:Found untraced functions such as _update_step_xla while saving (showing 1 of 1). These functions will not be directly callable after loading.\n"
     ]
    },
    {
     "name": "stdout",
     "output_type": "stream",
     "text": [
      "INFO:tensorflow:Assets written to: my_model_2\\assets\n"
     ]
    },
    {
     "name": "stderr",
     "output_type": "stream",
     "text": [
      "INFO:tensorflow:Assets written to: my_model_2\\assets\n"
     ]
    },
    {
     "name": "stdout",
     "output_type": "stream",
     "text": [
      "1/1 [==============================] - 3s 3s/step - loss: 1.5567 - accuracy: 0.3083 - val_loss: 1.6122 - val_accuracy: 0.2258 - lr: 0.0010\n",
      "Epoch 3/200\n",
      "1/1 [==============================] - ETA: 0s - loss: 1.4477 - accuracy: 0.4083"
     ]
    },
    {
     "name": "stderr",
     "output_type": "stream",
     "text": [
      "WARNING:absl:Found untraced functions such as _update_step_xla while saving (showing 1 of 1). These functions will not be directly callable after loading.\n"
     ]
    },
    {
     "name": "stdout",
     "output_type": "stream",
     "text": [
      "INFO:tensorflow:Assets written to: my_model_2\\assets\n"
     ]
    },
    {
     "name": "stderr",
     "output_type": "stream",
     "text": [
      "INFO:tensorflow:Assets written to: my_model_2\\assets\n"
     ]
    },
    {
     "name": "stdout",
     "output_type": "stream",
     "text": [
      "1/1 [==============================] - 3s 3s/step - loss: 1.4477 - accuracy: 0.4083 - val_loss: 1.5576 - val_accuracy: 0.2258 - lr: 0.0010\n",
      "Epoch 4/200\n",
      "1/1 [==============================] - ETA: 0s - loss: 1.3417 - accuracy: 0.4750"
     ]
    },
    {
     "name": "stderr",
     "output_type": "stream",
     "text": [
      "WARNING:absl:Found untraced functions such as _update_step_xla while saving (showing 1 of 1). These functions will not be directly callable after loading.\n"
     ]
    },
    {
     "name": "stdout",
     "output_type": "stream",
     "text": [
      "INFO:tensorflow:Assets written to: my_model_2\\assets\n"
     ]
    },
    {
     "name": "stderr",
     "output_type": "stream",
     "text": [
      "INFO:tensorflow:Assets written to: my_model_2\\assets\n"
     ]
    },
    {
     "name": "stdout",
     "output_type": "stream",
     "text": [
      "1/1 [==============================] - 3s 3s/step - loss: 1.3417 - accuracy: 0.4750 - val_loss: 1.5146 - val_accuracy: 0.2903 - lr: 0.0010\n",
      "Epoch 5/200\n",
      "1/1 [==============================] - ETA: 0s - loss: 1.2582 - accuracy: 0.5167"
     ]
    },
    {
     "name": "stderr",
     "output_type": "stream",
     "text": [
      "WARNING:absl:Found untraced functions such as _update_step_xla while saving (showing 1 of 1). These functions will not be directly callable after loading.\n"
     ]
    },
    {
     "name": "stdout",
     "output_type": "stream",
     "text": [
      "INFO:tensorflow:Assets written to: my_model_2\\assets\n"
     ]
    },
    {
     "name": "stderr",
     "output_type": "stream",
     "text": [
      "INFO:tensorflow:Assets written to: my_model_2\\assets\n"
     ]
    },
    {
     "name": "stdout",
     "output_type": "stream",
     "text": [
      "1/1 [==============================] - 3s 3s/step - loss: 1.2582 - accuracy: 0.5167 - val_loss: 1.4500 - val_accuracy: 0.4194 - lr: 0.0010\n",
      "Epoch 6/200\n",
      "1/1 [==============================] - ETA: 0s - loss: 1.1498 - accuracy: 0.5667"
     ]
    },
    {
     "name": "stderr",
     "output_type": "stream",
     "text": [
      "WARNING:absl:Found untraced functions such as _update_step_xla while saving (showing 1 of 1). These functions will not be directly callable after loading.\n"
     ]
    },
    {
     "name": "stdout",
     "output_type": "stream",
     "text": [
      "INFO:tensorflow:Assets written to: my_model_2\\assets\n"
     ]
    },
    {
     "name": "stderr",
     "output_type": "stream",
     "text": [
      "INFO:tensorflow:Assets written to: my_model_2\\assets\n"
     ]
    },
    {
     "name": "stdout",
     "output_type": "stream",
     "text": [
      "1/1 [==============================] - 3s 3s/step - loss: 1.1498 - accuracy: 0.5667 - val_loss: 1.3948 - val_accuracy: 0.5161 - lr: 0.0010\n",
      "Epoch 7/200\n",
      "1/1 [==============================] - ETA: 0s - loss: 1.0574 - accuracy: 0.6833"
     ]
    },
    {
     "name": "stderr",
     "output_type": "stream",
     "text": [
      "WARNING:absl:Found untraced functions such as _update_step_xla while saving (showing 1 of 1). These functions will not be directly callable after loading.\n"
     ]
    },
    {
     "name": "stdout",
     "output_type": "stream",
     "text": [
      "INFO:tensorflow:Assets written to: my_model_2\\assets\n"
     ]
    },
    {
     "name": "stderr",
     "output_type": "stream",
     "text": [
      "INFO:tensorflow:Assets written to: my_model_2\\assets\n"
     ]
    },
    {
     "name": "stdout",
     "output_type": "stream",
     "text": [
      "1/1 [==============================] - 3s 3s/step - loss: 1.0574 - accuracy: 0.6833 - val_loss: 1.3283 - val_accuracy: 0.6129 - lr: 0.0010\n",
      "Epoch 8/200\n",
      "1/1 [==============================] - ETA: 0s - loss: 0.9442 - accuracy: 0.6917"
     ]
    },
    {
     "name": "stderr",
     "output_type": "stream",
     "text": [
      "WARNING:absl:Found untraced functions such as _update_step_xla while saving (showing 1 of 1). These functions will not be directly callable after loading.\n"
     ]
    },
    {
     "name": "stdout",
     "output_type": "stream",
     "text": [
      "INFO:tensorflow:Assets written to: my_model_2\\assets\n"
     ]
    },
    {
     "name": "stderr",
     "output_type": "stream",
     "text": [
      "INFO:tensorflow:Assets written to: my_model_2\\assets\n"
     ]
    },
    {
     "name": "stdout",
     "output_type": "stream",
     "text": [
      "1/1 [==============================] - 3s 3s/step - loss: 0.9442 - accuracy: 0.6917 - val_loss: 1.2840 - val_accuracy: 0.5806 - lr: 0.0010\n",
      "Epoch 9/200\n",
      "1/1 [==============================] - ETA: 0s - loss: 0.8864 - accuracy: 0.7500"
     ]
    },
    {
     "name": "stderr",
     "output_type": "stream",
     "text": [
      "WARNING:absl:Found untraced functions such as _update_step_xla while saving (showing 1 of 1). These functions will not be directly callable after loading.\n"
     ]
    },
    {
     "name": "stdout",
     "output_type": "stream",
     "text": [
      "INFO:tensorflow:Assets written to: my_model_2\\assets\n"
     ]
    },
    {
     "name": "stderr",
     "output_type": "stream",
     "text": [
      "INFO:tensorflow:Assets written to: my_model_2\\assets\n"
     ]
    },
    {
     "name": "stdout",
     "output_type": "stream",
     "text": [
      "1/1 [==============================] - 3s 3s/step - loss: 0.8864 - accuracy: 0.7500 - val_loss: 1.2242 - val_accuracy: 0.6774 - lr: 0.0010\n",
      "Epoch 10/200\n",
      "1/1 [==============================] - ETA: 0s - loss: 0.8270 - accuracy: 0.7083"
     ]
    },
    {
     "name": "stderr",
     "output_type": "stream",
     "text": [
      "WARNING:absl:Found untraced functions such as _update_step_xla while saving (showing 1 of 1). These functions will not be directly callable after loading.\n"
     ]
    },
    {
     "name": "stdout",
     "output_type": "stream",
     "text": [
      "INFO:tensorflow:Assets written to: my_model_2\\assets\n"
     ]
    },
    {
     "name": "stderr",
     "output_type": "stream",
     "text": [
      "INFO:tensorflow:Assets written to: my_model_2\\assets\n"
     ]
    },
    {
     "name": "stdout",
     "output_type": "stream",
     "text": [
      "1/1 [==============================] - 4s 4s/step - loss: 0.8270 - accuracy: 0.7083 - val_loss: 1.1895 - val_accuracy: 0.7097 - lr: 0.0010\n",
      "Epoch 11/200\n",
      "1/1 [==============================] - ETA: 0s - loss: 0.7441 - accuracy: 0.7750"
     ]
    },
    {
     "name": "stderr",
     "output_type": "stream",
     "text": [
      "WARNING:absl:Found untraced functions such as _update_step_xla while saving (showing 1 of 1). These functions will not be directly callable after loading.\n"
     ]
    },
    {
     "name": "stdout",
     "output_type": "stream",
     "text": [
      "INFO:tensorflow:Assets written to: my_model_2\\assets\n"
     ]
    },
    {
     "name": "stderr",
     "output_type": "stream",
     "text": [
      "INFO:tensorflow:Assets written to: my_model_2\\assets\n"
     ]
    },
    {
     "name": "stdout",
     "output_type": "stream",
     "text": [
      "1/1 [==============================] - 3s 3s/step - loss: 0.7441 - accuracy: 0.7750 - val_loss: 1.1838 - val_accuracy: 0.7097 - lr: 0.0010\n",
      "Epoch 12/200\n",
      "1/1 [==============================] - 0s 351ms/step - loss: 0.7369 - accuracy: 0.7583 - val_loss: 1.1995 - val_accuracy: 0.7419 - lr: 0.0010\n",
      "Epoch 13/200\n",
      "1/1 [==============================] - 0s 333ms/step - loss: 0.6409 - accuracy: 0.7750 - val_loss: 1.2567 - val_accuracy: 0.6774 - lr: 0.0010\n"
     ]
    },
    {
     "data": {
      "image/png": "[encoded data removed]",
      "text/plain": [
       "<Figure size 640x480 with 1 Axes>"
      ]
     },
     "metadata": {},
     "output_type": "display_data"
    },
    {
     "data": {
      "image/png": "[encoded data removed]",
      "text/plain": [
       "<Figure size 640x480 with 1 Axes>"
      ]
     },
     "metadata": {},
     "output_type": "display_data"
    }
   ],
   "source": [
    "Path = \"my_model_2\"\n",
    "Dir = \"my_log_dir\"   \n",
    "Call_B_Fun = callbacks(Path,Dir)\n",
    "\n",
    "batch_size = 512            \n",
    "epochs = 200                \n",
    "\n",
    "history = model.fit(X_train, trainLabels,\n",
    "                    batch_size=batch_size, epochs = epochs,\n",
    "                    validation_split = 0.2, callbacks=Call_B_Fun)\n",
    "\n",
    "loss = history.history['loss']\n",
    "val_loss = history.history['val_loss']\n",
    "acc = history.history['accuracy']\n",
    "val_acc = history.history['val_accuracy']\n",
    "plot(loss,val_loss,acc,val_acc)"
   ]
  },
  {
   "cell_type": "code",
   "execution_count": 31,
   "metadata": {},
   "outputs": [],
   "source": [
    "# saving our model\n",
    "model.save('my_model_2/emg_2.h5')"
   ]
  },
  {
   "cell_type": "code",
   "execution_count": 32,
   "metadata": {},
   "outputs": [],
   "source": [
    "# loading saved model\n",
    "from tensorflow.keras.models import load_model\n",
    "emg = 'my_model_2/emg_2.h5'\n",
    "emg_model = load_model(emg)\n",
    "#emg_model.summary()"
   ]
  },
  {
   "cell_type": "code",
   "execution_count": 33,
   "metadata": {},
   "outputs": [
    {
     "name": "stdout",
     "output_type": "stream",
     "text": [
      "Model: \"sequential_1\"\n",
      "_________________________________________________________________\n",
      " Layer (type)                Output Shape              Param #   \n",
      "=================================================================\n",
      " dense_9 (Dense)             (None, 1024)              50176     \n",
      "                                                                 \n",
      " dense_10 (Dense)            (None, 512)               524800    \n",
      "                                                                 \n",
      " dense_11 (Dense)            (None, 256)               131328    \n",
      "                                                                 \n",
      " dropout_2 (Dropout)         (None, 256)               0         \n",
      "                                                                 \n",
      " dense_12 (Dense)            (None, 128)               32896     \n",
      "                                                                 \n",
      " dense_13 (Dense)            (None, 64)                8256      \n",
      "                                                                 \n",
      " dropout_3 (Dropout)         (None, 64)                0         \n",
      "                                                                 \n",
      " dense_14 (Dense)            (None, 32)                2080      \n",
      "                                                                 \n",
      " dense_15 (Dense)            (None, 16)                528       \n",
      "                                                                 \n",
      " dense_16 (Dense)            (None, 6)                 102       \n",
      "                                                                 \n",
      "=================================================================\n",
      "Total params: 750,166\n",
      "Trainable params: 750,166\n",
      "Non-trainable params: 0\n",
      "_________________________________________________________________\n"
     ]
    }
   ],
   "source": [
    "from tensorflow.keras import layers, Sequential\n",
    "\n",
    "model = Sequential([\n",
    "    layers.Dense(1024, input_shape=(48,), activation='relu'),\n",
    "    layers.Dense(512, activation='relu'),\n",
    "    layers.Dense(256, activation='relu'),\n",
    "    layers.Dropout(0.2),  # Adding dropout with a rate of 0.2\n",
    "    layers.Dense(128, activation='relu'),\n",
    "    layers.Dense(64, activation='relu'),\n",
    "    layers.Dropout(0.2),  # Adding dropout with a rate of 0.2\n",
    "    layers.Dense(32, activation='relu'),\n",
    "    layers.Dense(16, activation='relu'),\n",
    "    layers.Dense(6, activation='softmax')\n",
    "])\n",
    "\n",
    "model.compile(optimizer='adam',\n",
    "              loss='categorical_crossentropy',\n",
    "              metrics=['accuracy'])\n",
    "model.summary()\n",
    "\n",
    "model.set_weights(emg_model.get_weights())   # using pretrained model weights"
   ]
  },
  {
   "cell_type": "code",
   "execution_count": 34,
   "metadata": {},
   "outputs": [
    {
     "name": "stdout",
     "output_type": "stream",
     "text": [
      "Epoch 1/15\n",
      "1/1 [==============================] - ETA: 0s - loss: 0.5610 - accuracy: 0.8167WARNING:tensorflow:Early stopping conditioned on metric `acc` which is not available. Available metrics are: loss,accuracy,val_loss,val_accuracy\n"
     ]
    },
    {
     "name": "stderr",
     "output_type": "stream",
     "text": [
      "WARNING:tensorflow:Early stopping conditioned on metric `acc` which is not available. Available metrics are: loss,accuracy,val_loss,val_accuracy\n"
     ]
    },
    {
     "name": "stdout",
     "output_type": "stream",
     "text": [
      "1/1 [==============================] - 3s 3s/step - loss: 0.5610 - accuracy: 0.8167 - val_loss: 0.9456 - val_accuracy: 0.7742\n",
      "Epoch 2/15\n",
      "1/1 [==============================] - ETA: 0s - loss: 0.7421 - accuracy: 0.7750WARNING:tensorflow:Early stopping conditioned on metric `acc` which is not available. Available metrics are: loss,accuracy,val_loss,val_accuracy\n"
     ]
    },
    {
     "name": "stderr",
     "output_type": "stream",
     "text": [
      "WARNING:tensorflow:Early stopping conditioned on metric `acc` which is not available. Available metrics are: loss,accuracy,val_loss,val_accuracy\n"
     ]
    },
    {
     "name": "stdout",
     "output_type": "stream",
     "text": [
      "1/1 [==============================] - 0s 73ms/step - loss: 0.7421 - accuracy: 0.7750 - val_loss: 1.0626 - val_accuracy: 0.7742\n",
      "Epoch 3/15\n",
      "1/1 [==============================] - ETA: 0s - loss: 0.5330 - accuracy: 0.8500WARNING:tensorflow:Early stopping conditioned on metric `acc` which is not available. Available metrics are: loss,accuracy,val_loss,val_accuracy\n"
     ]
    },
    {
     "name": "stderr",
     "output_type": "stream",
     "text": [
      "WARNING:tensorflow:Early stopping conditioned on metric `acc` which is not available. Available metrics are: loss,accuracy,val_loss,val_accuracy\n"
     ]
    },
    {
     "name": "stdout",
     "output_type": "stream",
     "text": [
      "1/1 [==============================] - 0s 70ms/step - loss: 0.5330 - accuracy: 0.8500 - val_loss: 1.0676 - val_accuracy: 0.7419\n",
      "Epoch 4/15\n",
      "1/1 [==============================] - ETA: 0s - loss: 0.3816 - accuracy: 0.9250WARNING:tensorflow:Early stopping conditioned on metric `acc` which is not available. Available metrics are: loss,accuracy,val_loss,val_accuracy\n"
     ]
    },
    {
     "name": "stderr",
     "output_type": "stream",
     "text": [
      "WARNING:tensorflow:Early stopping conditioned on metric `acc` which is not available. Available metrics are: loss,accuracy,val_loss,val_accuracy\n"
     ]
    },
    {
     "name": "stdout",
     "output_type": "stream",
     "text": [
      "1/1 [==============================] - 0s 70ms/step - loss: 0.3816 - accuracy: 0.9250 - val_loss: 1.1352 - val_accuracy: 0.7097\n",
      "Epoch 5/15\n",
      "1/1 [==============================] - ETA: 0s - loss: 0.4186 - accuracy: 0.8917WARNING:tensorflow:Early stopping conditioned on metric `acc` which is not available. Available metrics are: loss,accuracy,val_loss,val_accuracy\n"
     ]
    },
    {
     "name": "stderr",
     "output_type": "stream",
     "text": [
      "WARNING:tensorflow:Early stopping conditioned on metric `acc` which is not available. Available metrics are: loss,accuracy,val_loss,val_accuracy\n"
     ]
    },
    {
     "name": "stdout",
     "output_type": "stream",
     "text": [
      "1/1 [==============================] - 0s 71ms/step - loss: 0.4186 - accuracy: 0.8917 - val_loss: 1.1639 - val_accuracy: 0.7742\n",
      "Epoch 6/15\n",
      "1/1 [==============================] - ETA: 0s - loss: 0.3455 - accuracy: 0.9083WARNING:tensorflow:Early stopping conditioned on metric `acc` which is not available. Available metrics are: loss,accuracy,val_loss,val_accuracy\n"
     ]
    },
    {
     "name": "stderr",
     "output_type": "stream",
     "text": [
      "WARNING:tensorflow:Early stopping conditioned on metric `acc` which is not available. Available metrics are: loss,accuracy,val_loss,val_accuracy\n"
     ]
    },
    {
     "name": "stdout",
     "output_type": "stream",
     "text": [
      "1/1 [==============================] - 0s 75ms/step - loss: 0.3455 - accuracy: 0.9083 - val_loss: 1.1649 - val_accuracy: 0.7742\n",
      "Epoch 7/15\n",
      "1/1 [==============================] - ETA: 0s - loss: 0.3256 - accuracy: 0.9167WARNING:tensorflow:Early stopping conditioned on metric `acc` which is not available. Available metrics are: loss,accuracy,val_loss,val_accuracy\n"
     ]
    },
    {
     "name": "stderr",
     "output_type": "stream",
     "text": [
      "WARNING:tensorflow:Early stopping conditioned on metric `acc` which is not available. Available metrics are: loss,accuracy,val_loss,val_accuracy\n"
     ]
    },
    {
     "name": "stdout",
     "output_type": "stream",
     "text": [
      "1/1 [==============================] - 0s 72ms/step - loss: 0.3256 - accuracy: 0.9167 - val_loss: 1.1761 - val_accuracy: 0.8065\n",
      "Epoch 8/15\n",
      "1/1 [==============================] - ETA: 0s - loss: 0.2369 - accuracy: 0.9500WARNING:tensorflow:Early stopping conditioned on metric `acc` which is not available. Available metrics are: loss,accuracy,val_loss,val_accuracy\n"
     ]
    },
    {
     "name": "stderr",
     "output_type": "stream",
     "text": [
      "WARNING:tensorflow:Early stopping conditioned on metric `acc` which is not available. Available metrics are: loss,accuracy,val_loss,val_accuracy\n"
     ]
    },
    {
     "name": "stdout",
     "output_type": "stream",
     "text": [
      "1/1 [==============================] - 0s 74ms/step - loss: 0.2369 - accuracy: 0.9500 - val_loss: 1.1860 - val_accuracy: 0.8065\n",
      "Epoch 9/15\n",
      "1/1 [==============================] - ETA: 0s - loss: 0.2185 - accuracy: 0.9667WARNING:tensorflow:Early stopping conditioned on metric `acc` which is not available. Available metrics are: loss,accuracy,val_loss,val_accuracy\n"
     ]
    },
    {
     "name": "stderr",
     "output_type": "stream",
     "text": [
      "WARNING:tensorflow:Early stopping conditioned on metric `acc` which is not available. Available metrics are: loss,accuracy,val_loss,val_accuracy\n"
     ]
    },
    {
     "name": "stdout",
     "output_type": "stream",
     "text": [
      "1/1 [==============================] - 0s 71ms/step - loss: 0.2185 - accuracy: 0.9667 - val_loss: 1.2326 - val_accuracy: 0.8387\n",
      "Epoch 10/15\n",
      "1/1 [==============================] - ETA: 0s - loss: 0.2251 - accuracy: 0.9417WARNING:tensorflow:Early stopping conditioned on metric `acc` which is not available. Available metrics are: loss,accuracy,val_loss,val_accuracy\n"
     ]
    },
    {
     "name": "stderr",
     "output_type": "stream",
     "text": [
      "WARNING:tensorflow:Early stopping conditioned on metric `acc` which is not available. Available metrics are: loss,accuracy,val_loss,val_accuracy\n"
     ]
    },
    {
     "name": "stdout",
     "output_type": "stream",
     "text": [
      "1/1 [==============================] - 0s 76ms/step - loss: 0.2251 - accuracy: 0.9417 - val_loss: 1.2972 - val_accuracy: 0.8387\n",
      "Epoch 11/15\n",
      "1/1 [==============================] - ETA: 0s - loss: 0.2188 - accuracy: 0.9417WARNING:tensorflow:Early stopping conditioned on metric `acc` which is not available. Available metrics are: loss,accuracy,val_loss,val_accuracy\n"
     ]
    },
    {
     "name": "stderr",
     "output_type": "stream",
     "text": [
      "WARNING:tensorflow:Early stopping conditioned on metric `acc` which is not available. Available metrics are: loss,accuracy,val_loss,val_accuracy\n"
     ]
    },
    {
     "name": "stdout",
     "output_type": "stream",
     "text": [
      "1/1 [==============================] - 0s 75ms/step - loss: 0.2188 - accuracy: 0.9417 - val_loss: 1.3456 - val_accuracy: 0.8387\n",
      "Epoch 12/15\n",
      "1/1 [==============================] - ETA: 0s - loss: 0.1845 - accuracy: 0.9583WARNING:tensorflow:Early stopping conditioned on metric `acc` which is not available. Available metrics are: loss,accuracy,val_loss,val_accuracy\n"
     ]
    },
    {
     "name": "stderr",
     "output_type": "stream",
     "text": [
      "WARNING:tensorflow:Early stopping conditioned on metric `acc` which is not available. Available metrics are: loss,accuracy,val_loss,val_accuracy\n"
     ]
    },
    {
     "name": "stdout",
     "output_type": "stream",
     "text": [
      "1/1 [==============================] - 0s 80ms/step - loss: 0.1845 - accuracy: 0.9583 - val_loss: 1.3657 - val_accuracy: 0.8387\n",
      "Epoch 13/15\n",
      "1/1 [==============================] - ETA: 0s - loss: 0.1489 - accuracy: 0.9667WARNING:tensorflow:Early stopping conditioned on metric `acc` which is not available. Available metrics are: loss,accuracy,val_loss,val_accuracy\n"
     ]
    },
    {
     "name": "stderr",
     "output_type": "stream",
     "text": [
      "WARNING:tensorflow:Early stopping conditioned on metric `acc` which is not available. Available metrics are: loss,accuracy,val_loss,val_accuracy\n"
     ]
    },
    {
     "name": "stdout",
     "output_type": "stream",
     "text": [
      "1/1 [==============================] - 0s 102ms/step - loss: 0.1489 - accuracy: 0.9667 - val_loss: 1.3361 - val_accuracy: 0.8387\n",
      "Epoch 14/15\n",
      "1/1 [==============================] - ETA: 0s - loss: 0.1363 - accuracy: 0.9750WARNING:tensorflow:Early stopping conditioned on metric `acc` which is not available. Available metrics are: loss,accuracy,val_loss,val_accuracy\n"
     ]
    },
    {
     "name": "stderr",
     "output_type": "stream",
     "text": [
      "WARNING:tensorflow:Early stopping conditioned on metric `acc` which is not available. Available metrics are: loss,accuracy,val_loss,val_accuracy\n"
     ]
    },
    {
     "name": "stdout",
     "output_type": "stream",
     "text": [
      "1/1 [==============================] - 0s 74ms/step - loss: 0.1363 - accuracy: 0.9750 - val_loss: 1.3122 - val_accuracy: 0.8387\n",
      "Epoch 15/15\n",
      "1/1 [==============================] - ETA: 0s - loss: 0.1115 - accuracy: 0.9583WARNING:tensorflow:Early stopping conditioned on metric `acc` which is not available. Available metrics are: loss,accuracy,val_loss,val_accuracy\n"
     ]
    },
    {
     "name": "stderr",
     "output_type": "stream",
     "text": [
      "WARNING:tensorflow:Early stopping conditioned on metric `acc` which is not available. Available metrics are: loss,accuracy,val_loss,val_accuracy\n"
     ]
    },
    {
     "name": "stdout",
     "output_type": "stream",
     "text": [
      "1/1 [==============================] - 0s 71ms/step - loss: 0.1115 - accuracy: 0.9583 - val_loss: 1.3120 - val_accuracy: 0.8387\n"
     ]
    }
   ],
   "source": [
    "callbacks_list = [tf.keras.callbacks.EarlyStopping(   # stop if not improving\n",
    "                monitor='acc',patience=5,),           # monitor validation accuracy\n",
    "                tf.keras.callbacks.ModelCheckpoint(\n",
    "                filepath='my_transfer_model.h5',\n",
    "                monitor='val_loss',                   # only save best weights\n",
    "                save_best_only=True,)]                # when vall loss is improved\n",
    "\n",
    "batch_size = 512           \n",
    "epochs = 15                \n",
    "\n",
    "history = model.fit(X_train, trainLabels,\n",
    "                    batch_size=batch_size, epochs = epochs,\n",
    "                    validation_split = 0.2,\n",
    "                    callbacks=callbacks_list)"
   ]
  },
  {
   "cell_type": "code",
   "execution_count": 35,
   "metadata": {},
   "outputs": [],
   "source": [
    "model.save('my_emg_3.h5')"
   ]
  },
  {
   "cell_type": "code",
   "execution_count": 36,
   "metadata": {},
   "outputs": [
    {
     "data": {
      "image/png": "[encoded data removed]",
      "text/plain": [
       "<Figure size 640x480 with 1 Axes>"
      ]
     },
     "metadata": {},
     "output_type": "display_data"
    },
    {
     "data": {
      "image/png": "[encoded data removed]",
      "text/plain": [
       "<Figure size 640x480 with 1 Axes>"
      ]
     },
     "metadata": {},
     "output_type": "display_data"
    }
   ],
   "source": [
    "loss = history.history['loss']\n",
    "val_loss = history.history['val_loss']\n",
    "acc = history.history['accuracy']\n",
    "val_acc = history.history['val_accuracy']\n",
    "plot(loss,val_loss,acc,val_acc)"
   ]
  },
  {
   "cell_type": "code",
   "execution_count": 37,
   "metadata": {},
   "outputs": [
    {
     "name": "stdout",
     "output_type": "stream",
     "text": [
      "1/1 - 0s - loss: 1.3518 - accuracy: 0.7846 - 36ms/epoch - 36ms/step\n",
      "\n",
      "Test loss : 135.1818323135376 %\n",
      "Test accuracy : 78.46153974533081 %\n"
     ]
    }
   ],
   "source": [
    "evaluation = model.evaluate(X_test,  testLabels,batch_size=batch_size, verbose=2)\n",
    "print()\n",
    "print(\"Test loss :\",evaluation[0]*100,\"%\")\n",
    "print(\"Test accuracy :\",evaluation[1]*100,\"%\")"
   ]
  },
  {
   "cell_type": "code",
   "execution_count": 38,
   "metadata": {},
   "outputs": [
    {
     "name": "stdout",
     "output_type": "stream",
     "text": [
      "3/3 [==============================] - 0s 4ms/step\n",
      "[[9.78859782e-01 2.11210512e-02 1.74268507e-07 6.04123951e-09\n",
      "  7.87972476e-06 1.11481759e-05]\n",
      " [1.72284327e-03 1.43478774e-02 3.86482524e-03 9.74914849e-01\n",
      "  3.33720027e-03 1.81236456e-03]\n",
      " [4.31194756e-04 7.38159724e-06 3.82692902e-03 9.19451049e-05\n",
      "  9.95542228e-01 1.00298384e-04]\n",
      " [2.57588204e-06 6.49554977e-07 2.39559988e-04 1.14460454e-05\n",
      "  3.63480201e-09 9.99745786e-01]\n",
      " [3.98211271e-01 5.96695483e-01 2.69749551e-04 1.16846629e-03\n",
      "  2.60080863e-03 1.05425506e-03]\n",
      " [8.01209435e-02 8.74148309e-02 4.85195825e-03 1.67849232e-02\n",
      "  2.73341639e-03 8.08093905e-01]\n",
      " [3.60258127e-05 3.11198448e-07 1.01865956e-03 2.10498147e-05\n",
      "  9.98907447e-01 1.65068959e-05]\n",
      " [1.71770761e-03 9.98282313e-01 3.68899112e-14 3.46383189e-08\n",
      "  9.27675506e-11 6.38606612e-10]\n",
      " [9.87076223e-01 1.29114809e-02 1.53933442e-07 1.78704573e-09\n",
      "  4.17977253e-06 8.00472753e-06]\n",
      " [1.31480710e-03 1.41889512e-04 8.28164071e-03 8.63664504e-03\n",
      "  9.81279731e-01 3.45340930e-04]\n",
      " [6.52404051e-05 5.23406584e-07 1.83186517e-03 1.29682758e-05\n",
      "  9.98050213e-01 3.91736903e-05]\n",
      " [2.35826284e-01 5.33474267e-01 1.14183109e-02 7.92825967e-03\n",
      "  3.20546562e-04 2.11032301e-01]\n",
      " [9.87691820e-01 1.22975213e-02 1.15574259e-07 1.31312083e-09\n",
      "  4.49981644e-06 5.99864779e-06]\n",
      " [9.54540193e-01 4.11874391e-02 1.50790345e-03 4.62065691e-06\n",
      "  1.05601293e-03 1.70380005e-03]\n",
      " [1.09971676e-03 1.02343364e-02 2.15270021e-03 9.82556224e-01\n",
      "  3.79108032e-03 1.65888210e-04]\n",
      " [3.45589995e-01 6.03366792e-01 8.20744317e-03 1.69872474e-02\n",
      "  8.43990967e-03 1.74085107e-02]\n",
      " [4.54550309e-06 6.61270150e-10 1.29241794e-02 2.05941255e-08\n",
      "  9.82359350e-01 4.71185148e-03]\n",
      " [2.16951186e-04 8.60351720e-04 1.83266638e-05 2.46971846e-03\n",
      "  2.17908746e-06 9.96432543e-01]\n",
      " [2.46536755e-03 1.84016582e-03 3.34791839e-04 2.11688384e-04\n",
      "  6.95160088e-06 9.95141029e-01]\n",
      " [2.01042894e-05 1.90286874e-03 2.49752065e-05 9.98011351e-01\n",
      "  2.47788394e-05 1.58525290e-05]\n",
      " [2.43660994e-03 9.51789902e-04 1.43200438e-02 2.55919397e-01\n",
      "  7.26103842e-01 2.68323638e-04]\n",
      " [1.18173473e-03 4.20070579e-03 5.40870707e-03 9.66339290e-01\n",
      "  2.27912571e-02 7.82642892e-05]\n",
      " [2.05165517e-04 1.09131674e-04 1.09842425e-04 1.14366398e-04\n",
      "  6.86764633e-06 9.99454558e-01]\n",
      " [2.01465795e-03 1.43451663e-03 1.16720842e-03 1.60985370e-03\n",
      "  1.73235254e-04 9.93600488e-01]\n",
      " [8.39342480e-04 7.40124751e-03 6.64041087e-04 2.23938644e-01\n",
      "  7.34495625e-05 7.67083287e-01]\n",
      " [9.91163731e-01 8.82977340e-03 8.97692516e-08 4.58973720e-10\n",
      "  2.30696742e-06 4.07901780e-06]\n",
      " [2.13742569e-05 3.18845341e-05 9.35260505e-06 1.71383348e-04\n",
      "  3.50433993e-07 9.99765694e-01]\n",
      " [6.01894935e-05 3.44199105e-03 9.03200707e-05 9.95589495e-01\n",
      "  3.41727391e-05 7.83871743e-04]\n",
      " [1.20884717e-04 3.25196124e-05 9.84612405e-01 5.48309647e-04\n",
      "  1.28262822e-04 1.45577481e-02]\n",
      " [1.29972332e-05 2.07105372e-03 9.57883458e-06 9.96934175e-01\n",
      "  2.36699907e-06 9.69787303e-04]\n",
      " [6.59934431e-02 9.33479190e-01 1.58761816e-06 4.19025921e-04\n",
      "  5.21069815e-05 5.45736002e-05]\n",
      " [9.87681031e-01 1.23018101e-02 2.42180846e-07 2.29046759e-09\n",
      "  9.38998164e-06 7.59409249e-06]\n",
      " [3.00486659e-04 8.77042912e-05 7.86908388e-01 2.77059223e-03\n",
      "  2.30345177e-05 2.09909782e-01]\n",
      " [1.48314086e-03 5.82959736e-04 8.12650800e-01 8.91155470e-03\n",
      "  8.12196755e-04 1.75559357e-01]\n",
      " [1.95380419e-01 3.01843375e-01 3.52580100e-03 1.49405897e-02\n",
      "  3.38025601e-03 4.80929554e-01]\n",
      " [7.84191128e-04 4.47602128e-04 3.18058883e-04 3.20575753e-04\n",
      "  1.50251753e-05 9.98114586e-01]\n",
      " [9.90928233e-01 9.06531420e-03 8.28365572e-08 4.58026117e-10\n",
      "  2.40082750e-06 3.82116832e-06]\n",
      " [6.00517269e-05 4.69026668e-03 4.53887296e-05 9.92580652e-01\n",
      "  1.38473879e-05 2.60974630e-03]\n",
      " [1.52077764e-01 8.39925468e-01 1.24186437e-04 4.90168110e-03\n",
      "  1.23035198e-03 1.74053770e-03]\n",
      " [6.41179644e-03 3.03144306e-02 6.31680479e-03 9.38591897e-01\n",
      "  1.79244895e-02 4.40642674e-04]\n",
      " [9.59983468e-01 3.62671241e-02 6.20197316e-05 3.83223011e-07\n",
      "  3.66823166e-03 1.87168844e-05]\n",
      " [1.53205019e-06 3.45498463e-10 1.49786472e-03 2.06931432e-08\n",
      "  9.98422742e-01 7.78384056e-05]\n",
      " [8.36598217e-01 1.63214788e-01 8.92908872e-07 2.59132253e-06\n",
      "  3.52064308e-05 1.48255422e-04]\n",
      " [1.43107764e-05 1.72667764e-03 1.75148598e-05 9.98171926e-01\n",
      "  9.74252180e-06 5.99174200e-05]\n",
      " [1.21185494e-07 8.19539273e-05 2.54132374e-07 9.99916911e-01\n",
      "  1.18822392e-07 5.91581340e-07]\n",
      " [1.79839786e-04 3.98109667e-04 7.08652396e-06 3.23932123e-04\n",
      "  9.06260482e-07 9.99090075e-01]\n",
      " [3.46123095e-04 1.39899664e-02 2.39921239e-04 9.73789334e-01\n",
      "  8.08618715e-05 1.15537932e-02]\n",
      " [8.08011740e-04 7.70616112e-04 3.28749011e-04 1.34005246e-03\n",
      "  4.02909463e-05 9.96712327e-01]\n",
      " [5.70772542e-03 5.05858741e-04 6.27893865e-01 4.35963972e-03\n",
      "  8.16145688e-02 2.79918313e-01]\n",
      " [4.22478467e-01 5.73847413e-01 8.70483200e-05 8.87469214e-04\n",
      "  1.01067859e-03 1.68892974e-03]\n",
      " [1.36410132e-01 2.70016715e-02 6.66120410e-01 4.12482303e-03\n",
      "  3.31744645e-03 1.63025558e-01]\n",
      " [8.54763028e-04 3.90325567e-06 1.58159006e-02 2.18547052e-06\n",
      "  9.83006179e-01 3.17144586e-04]\n",
      " [1.64077596e-06 7.58729357e-07 8.85355860e-07 8.26743019e-07\n",
      "  3.41383277e-09 9.99995947e-01]\n",
      " [9.89059806e-01 1.09306434e-02 1.45919827e-07 9.81246195e-10\n",
      "  4.08474762e-06 5.36845482e-06]\n",
      " [1.10355541e-04 2.62502756e-04 3.85524654e-05 1.62591366e-03\n",
      "  2.61257514e-06 9.97960091e-01]\n",
      " [9.88387287e-01 1.16036534e-02 9.78203687e-08 1.00202302e-09\n",
      "  3.41098757e-06 5.56160603e-06]\n",
      " [3.57734876e-07 1.69104766e-04 6.39241421e-07 9.99812782e-01\n",
      "  1.47297087e-07 1.70535841e-05]\n",
      " [9.73734498e-01 2.62251720e-02 5.28383737e-07 1.93780973e-08\n",
      "  1.83670963e-05 2.13217154e-05]\n",
      " [9.92162168e-01 7.82489683e-03 2.54347725e-07 6.34404640e-10\n",
      "  8.63569130e-06 3.97998474e-06]\n",
      " [5.60882154e-06 1.68507057e-03 2.58257978e-06 9.98241425e-01\n",
      "  1.26304496e-06 6.40117287e-05]\n",
      " [4.33570221e-02 4.57877778e-02 4.52535637e-02 1.07282016e-03\n",
      "  5.44383101e-06 8.64523292e-01]\n",
      " [2.40036359e-04 4.57138276e-06 3.31605924e-03 1.61363932e-04\n",
      "  9.96181607e-01 9.64540086e-05]\n",
      " [2.26595830e-02 5.09518606e-04 1.76613256e-02 4.80860363e-05\n",
      "  9.58478093e-01 6.43391977e-04]\n",
      " [1.31586552e-01 3.52221102e-01 6.19991260e-05 6.84224942e-04\n",
      "  9.72839098e-06 5.15436471e-01]\n",
      " [6.39878400e-03 9.93597865e-01 7.27568908e-11 3.15244461e-06\n",
      "  2.22052119e-08 1.21278489e-07]]\n"
     ]
    }
   ],
   "source": [
    "y_pred=model.predict(X_test)\n",
    "print(y_pred)\n",
    "# print(y_test)"
   ]
  },
  {
   "cell_type": "code",
   "execution_count": 40,
   "metadata": {},
   "outputs": [
    {
     "name": "stdout",
     "output_type": "stream",
     "text": [
      "3/3 [==============================] - 0s 3ms/step\n",
      "[0 3 4 5 1 5 4 1 0 4 4 1 0 0 3 1 4 5 5 3 4 3 5 5 5 0 5 3 2 3 1 0 2 2 5 5 0\n",
      " 3 1 3 0 4 0 3 3 5 3 5 2 1 2 4 5 0 5 0 3 0 0 3 5 4 4 5 1]\n"
     ]
    }
   ],
   "source": [
    "# Prediction & confusion matrix - test data\n",
    "y_prob = model.predict(X_test)\n",
    "y_pred = np.argmax(y_prob, axis=1)\n",
    "print(y_pred)"
   ]
  },
  {
   "cell_type": "code",
   "execution_count": 41,
   "metadata": {},
   "outputs": [
    {
     "name": "stdout",
     "output_type": "stream",
     "text": [
      "0.7534313932777201\n",
      "0.7846153846153846\n"
     ]
    }
   ],
   "source": [
    "# save the f1_score that used y_test and y_pred in y\n",
    "y=f1_score(testtarget,y_pred,average='macro') \n",
    "# calculate the accuracy and store it in a\n",
    "a=accuracy_score(testtarget,y_pred)\n",
    "\n",
    "print(y)\n",
    "print(a)"
   ]
  },
  {
   "cell_type": "code",
   "execution_count": 42,
   "metadata": {},
   "outputs": [
    {
     "data": {
      "text/plain": [
       "array([0, 3, 4, 2, 1, 5], dtype=int64)"
      ]
     },
     "execution_count": 42,
     "metadata": {},
     "output_type": "execute_result"
    }
   ],
   "source": [
    "testtarget.unique()"
   ]
  },
  {
   "cell_type": "code",
   "execution_count": 44,
   "metadata": {},
   "outputs": [
    {
     "name": "stdout",
     "output_type": "stream",
     "text": [
      "[[11  0  0  0  0  0]\n",
      " [ 0  7  0  0  1  0]\n",
      " [ 1  1  2  0  0  4]\n",
      " [ 0  0  0 11  0  1]\n",
      " [ 1  0  1  2  9  0]\n",
      " [ 0  0  2  0  0 11]]\n"
     ]
    }
   ],
   "source": [
    "table1 = confusion_matrix(testtarget,y_pred)\n",
    "print(table1)"
   ]
  },
  {
   "cell_type": "code",
   "execution_count": 45,
   "metadata": {},
   "outputs": [
    {
     "data": {
      "image/png": "[encoded data removed]",
      "text/plain": [
       "<Figure size 640x480 with 2 Axes>"
      ]
     },
     "metadata": {},
     "output_type": "display_data"
    }
   ],
   "source": [
    "from sklearn.metrics import confusion_matrix, ConfusionMatrixDisplay\n",
    "disp = ConfusionMatrixDisplay(confusion_matrix=table1)\n",
    "disp.plot()\n",
    "plt.show()"
   ]
  }
 ],
 "metadata": {
  "kernelspec": {
   "display_name": "Python 3",
   "language": "python",
   "name": "python3"
  },
  "language_info": {
   "codemirror_mode": {
    "name": "ipython",
    "version": 3
   },
   "file_extension": ".py",
   "mimetype": "text/x-python",
   "name": "python",
   "nbconvert_exporter": "python",
   "pygments_lexer": "ipython3",
   "version": "3.11.0"
  },
  "orig_nbformat": 4
 },
 "nbformat": 4,
 "nbformat_minor": 2
}
