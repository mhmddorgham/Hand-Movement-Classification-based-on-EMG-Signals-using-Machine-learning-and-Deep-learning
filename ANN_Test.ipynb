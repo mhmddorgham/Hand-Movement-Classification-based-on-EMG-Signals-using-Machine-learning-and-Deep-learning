{
 "cells": [
  {
   "cell_type": "code",
   "execution_count": 314,
   "metadata": {},
   "outputs": [],
   "source": [
    "import pandas as pd\n",
    "import tensorflow as tf\n",
    "import matplotlib.pyplot as plt\n",
    "import numpy as np"
   ]
  },
  {
   "cell_type": "code",
   "execution_count": 315,
   "metadata": {},
   "outputs": [
    {
     "name": "stdout",
     "output_type": "stream",
     "text": [
      "   time  channel1  channel2  channel3  channel4  channel5  channel6  channel7   \n",
      "0     1   0.00001  -0.00002  -0.00001  -0.00003   0.00000  -0.00001   0.00000  \\\n",
      "1     5   0.00001  -0.00002  -0.00001  -0.00003   0.00000  -0.00001   0.00000   \n",
      "2     6  -0.00001   0.00001   0.00002   0.00000   0.00001  -0.00002  -0.00001   \n",
      "3     7  -0.00001   0.00001   0.00002   0.00000   0.00001  -0.00002  -0.00001   \n",
      "4     8  -0.00001   0.00001   0.00002   0.00000   0.00001  -0.00002  -0.00001   \n",
      "\n",
      "   channel8  class  label  \n",
      "0  -0.00001      0      1  \n",
      "1  -0.00001      0      1  \n",
      "2   0.00001      0      1  \n",
      "3   0.00001      0      1  \n",
      "4   0.00001      0      1  \n",
      "(4237907, 11)\n"
     ]
    }
   ],
   "source": [
    "dataset=pd.read_csv(\"EMG-data.csv\") \n",
    "print(dataset.head())\n",
    "print(dataset.shape)\n"
   ]
  },
  {
   "cell_type": "code",
   "execution_count": 316,
   "metadata": {},
   "outputs": [
    {
     "name": "stdout",
     "output_type": "stream",
     "text": [
      "\n",
      "empty values: 0\n"
     ]
    }
   ],
   "source": [
    "print(\"\\nempty values:\",dataset.isnull().any().sum()) "
   ]
  },
  {
   "cell_type": "code",
   "execution_count": 317,
   "metadata": {},
   "outputs": [
    {
     "name": "stdout",
     "output_type": "stream",
     "text": [
      "[0 1 2 3 4 5 6 7]\n",
      "Value Count :\n",
      " class\n",
      "0    2725157\n",
      "6     253009\n",
      "5     251733\n",
      "4     251570\n",
      "1     250055\n",
      "3     249494\n",
      "2     243193\n",
      "7      13696\n",
      "Name: count, dtype: int64\n"
     ]
    }
   ],
   "source": [
    "dataset=dataset.drop(columns=[\"time\"])\n",
    "Class = dataset[\"class\"]\n",
    "print(Class.unique())\n",
    "print(\"Value Count :\\n\", dataset[\"class\"].value_counts())"
   ]
  },
  {
   "cell_type": "code",
   "execution_count": 318,
   "metadata": {},
   "outputs": [],
   "source": [
    "##drop gesture 0 because it offers no information due to its unmarked nature\n",
    "index_numbers_1=dataset[dataset[\"class\"]==0].index \n",
    "dataset.drop(index_numbers_1,inplace=True)\n",
    "##drop gesture 7 because it offers no information due to it being performed \n",
    "##by just two out of 36 patients \n",
    "index_numbers_2=dataset[dataset[\"class\"]==7].index\n",
    "dataset.drop(index_numbers_2,inplace=True)"
   ]
  },
  {
   "cell_type": "code",
   "execution_count": 319,
   "metadata": {},
   "outputs": [],
   "source": [
    "dataset=dataset.groupby(['label','class'])"
   ]
  },
  {
   "cell_type": "code",
   "execution_count": 320,
   "metadata": {},
   "outputs": [],
   "source": [
    "##functions for extracting sEMG features\n",
    "def rms(data): ##root mean square\n",
    "      return  np.sqrt(np.mean(data**2,axis=0))  \n",
    "\n",
    "def SSI(data): ##Simple Square Integral\n",
    "    return np.sum(data**2,axis=0)\n",
    "\n",
    "def abs_diffs_signal(data): ##absolute differential signal\n",
    "    return np.sum(np.abs(np.diff(data,axis=0)),axis=0)\n",
    "\n",
    "##function for returning an estimator class name \n",
    "def print_estimator_name(estimator):\n",
    "    return estimator.__class__.__name__"
   ]
  },
  {
   "cell_type": "code",
   "execution_count": 321,
   "metadata": {},
   "outputs": [],
   "source": [
    "##tabulating the aggregated sEMG features\n",
    "dataset=dataset.agg(['min','max',rms,SSI,abs_diffs_signal,np.ptp])"
   ]
  },
  {
   "cell_type": "code",
   "execution_count": 322,
   "metadata": {},
   "outputs": [
    {
     "data": {
      "text/html": [
       "<div>\n",
       "<style scoped>\n",
       "    .dataframe tbody tr th:only-of-type {\n",
       "        vertical-align: middle;\n",
       "    }\n",
       "\n",
       "    .dataframe tbody tr th {\n",
       "        vertical-align: top;\n",
       "    }\n",
       "\n",
       "    .dataframe thead tr th {\n",
       "        text-align: left;\n",
       "    }\n",
       "</style>\n",
       "<table border=\"1\" class=\"dataframe\">\n",
       "  <thead>\n",
       "    <tr>\n",
       "      <th></th>\n",
       "      <th>label</th>\n",
       "      <th>class</th>\n",
       "      <th colspan=\"6\" halign=\"left\">channel1</th>\n",
       "      <th colspan=\"2\" halign=\"left\">channel2</th>\n",
       "      <th>...</th>\n",
       "      <th colspan=\"4\" halign=\"left\">channel7</th>\n",
       "      <th colspan=\"6\" halign=\"left\">channel8</th>\n",
       "    </tr>\n",
       "    <tr>\n",
       "      <th></th>\n",
       "      <th></th>\n",
       "      <th></th>\n",
       "      <th>min</th>\n",
       "      <th>max</th>\n",
       "      <th>rms</th>\n",
       "      <th>SSI</th>\n",
       "      <th>abs_diffs_signal</th>\n",
       "      <th>ptp</th>\n",
       "      <th>min</th>\n",
       "      <th>max</th>\n",
       "      <th>...</th>\n",
       "      <th>rms</th>\n",
       "      <th>SSI</th>\n",
       "      <th>abs_diffs_signal</th>\n",
       "      <th>ptp</th>\n",
       "      <th>min</th>\n",
       "      <th>max</th>\n",
       "      <th>rms</th>\n",
       "      <th>SSI</th>\n",
       "      <th>abs_diffs_signal</th>\n",
       "      <th>ptp</th>\n",
       "    </tr>\n",
       "  </thead>\n",
       "  <tbody>\n",
       "    <tr>\n",
       "      <th>0</th>\n",
       "      <td>1</td>\n",
       "      <td>1</td>\n",
       "      <td>-0.00005</td>\n",
       "      <td>0.00004</td>\n",
       "      <td>0.000017</td>\n",
       "      <td>0.000002</td>\n",
       "      <td>0.01070</td>\n",
       "      <td>0.00009</td>\n",
       "      <td>-0.00010</td>\n",
       "      <td>0.00007</td>\n",
       "      <td>...</td>\n",
       "      <td>0.000013</td>\n",
       "      <td>0.000001</td>\n",
       "      <td>0.00870</td>\n",
       "      <td>0.00006</td>\n",
       "      <td>-0.00005</td>\n",
       "      <td>0.00002</td>\n",
       "      <td>0.000014</td>\n",
       "      <td>0.000001</td>\n",
       "      <td>0.00921</td>\n",
       "      <td>0.00007</td>\n",
       "    </tr>\n",
       "    <tr>\n",
       "      <th>1</th>\n",
       "      <td>1</td>\n",
       "      <td>2</td>\n",
       "      <td>-0.00111</td>\n",
       "      <td>0.00095</td>\n",
       "      <td>0.000210</td>\n",
       "      <td>0.000301</td>\n",
       "      <td>0.16819</td>\n",
       "      <td>0.00206</td>\n",
       "      <td>-0.00047</td>\n",
       "      <td>0.00041</td>\n",
       "      <td>...</td>\n",
       "      <td>0.000216</td>\n",
       "      <td>0.000318</td>\n",
       "      <td>0.16251</td>\n",
       "      <td>0.00153</td>\n",
       "      <td>-0.00070</td>\n",
       "      <td>0.00054</td>\n",
       "      <td>0.000150</td>\n",
       "      <td>0.000153</td>\n",
       "      <td>0.11696</td>\n",
       "      <td>0.00124</td>\n",
       "    </tr>\n",
       "    <tr>\n",
       "      <th>2</th>\n",
       "      <td>1</td>\n",
       "      <td>3</td>\n",
       "      <td>-0.00087</td>\n",
       "      <td>0.00112</td>\n",
       "      <td>0.000188</td>\n",
       "      <td>0.000260</td>\n",
       "      <td>0.14544</td>\n",
       "      <td>0.00199</td>\n",
       "      <td>-0.00113</td>\n",
       "      <td>0.00127</td>\n",
       "      <td>...</td>\n",
       "      <td>0.000078</td>\n",
       "      <td>0.000044</td>\n",
       "      <td>0.05866</td>\n",
       "      <td>0.00063</td>\n",
       "      <td>-0.00073</td>\n",
       "      <td>0.00051</td>\n",
       "      <td>0.000161</td>\n",
       "      <td>0.000190</td>\n",
       "      <td>0.11869</td>\n",
       "      <td>0.00124</td>\n",
       "    </tr>\n",
       "    <tr>\n",
       "      <th>3</th>\n",
       "      <td>1</td>\n",
       "      <td>4</td>\n",
       "      <td>-0.00020</td>\n",
       "      <td>0.00016</td>\n",
       "      <td>0.000056</td>\n",
       "      <td>0.000022</td>\n",
       "      <td>0.03609</td>\n",
       "      <td>0.00036</td>\n",
       "      <td>-0.00038</td>\n",
       "      <td>0.00024</td>\n",
       "      <td>...</td>\n",
       "      <td>0.000118</td>\n",
       "      <td>0.000095</td>\n",
       "      <td>0.07517</td>\n",
       "      <td>0.00090</td>\n",
       "      <td>-0.00032</td>\n",
       "      <td>0.00026</td>\n",
       "      <td>0.000083</td>\n",
       "      <td>0.000047</td>\n",
       "      <td>0.04984</td>\n",
       "      <td>0.00058</td>\n",
       "    </tr>\n",
       "    <tr>\n",
       "      <th>4</th>\n",
       "      <td>1</td>\n",
       "      <td>5</td>\n",
       "      <td>-0.00031</td>\n",
       "      <td>0.00061</td>\n",
       "      <td>0.000066</td>\n",
       "      <td>0.000030</td>\n",
       "      <td>0.04939</td>\n",
       "      <td>0.00092</td>\n",
       "      <td>-0.00066</td>\n",
       "      <td>0.00035</td>\n",
       "      <td>...</td>\n",
       "      <td>0.000084</td>\n",
       "      <td>0.000049</td>\n",
       "      <td>0.06768</td>\n",
       "      <td>0.00055</td>\n",
       "      <td>-0.00030</td>\n",
       "      <td>0.00045</td>\n",
       "      <td>0.000060</td>\n",
       "      <td>0.000025</td>\n",
       "      <td>0.04606</td>\n",
       "      <td>0.00075</td>\n",
       "    </tr>\n",
       "  </tbody>\n",
       "</table>\n",
       "<p>5 rows × 50 columns</p>\n",
       "</div>"
      ],
      "text/plain": [
       "  label class channel1                                                          \n",
       "                   min      max       rms       SSI abs_diffs_signal      ptp   \n",
       "0     1     1 -0.00005  0.00004  0.000017  0.000002          0.01070  0.00009  \\\n",
       "1     1     2 -0.00111  0.00095  0.000210  0.000301          0.16819  0.00206   \n",
       "2     1     3 -0.00087  0.00112  0.000188  0.000260          0.14544  0.00199   \n",
       "3     1     4 -0.00020  0.00016  0.000056  0.000022          0.03609  0.00036   \n",
       "4     1     5 -0.00031  0.00061  0.000066  0.000030          0.04939  0.00092   \n",
       "\n",
       "  channel2           ...  channel7                                       \n",
       "       min      max  ...       rms       SSI abs_diffs_signal      ptp   \n",
       "0 -0.00010  0.00007  ...  0.000013  0.000001          0.00870  0.00006  \\\n",
       "1 -0.00047  0.00041  ...  0.000216  0.000318          0.16251  0.00153   \n",
       "2 -0.00113  0.00127  ...  0.000078  0.000044          0.05866  0.00063   \n",
       "3 -0.00038  0.00024  ...  0.000118  0.000095          0.07517  0.00090   \n",
       "4 -0.00066  0.00035  ...  0.000084  0.000049          0.06768  0.00055   \n",
       "\n",
       "  channel8                                                         \n",
       "       min      max       rms       SSI abs_diffs_signal      ptp  \n",
       "0 -0.00005  0.00002  0.000014  0.000001          0.00921  0.00007  \n",
       "1 -0.00070  0.00054  0.000150  0.000153          0.11696  0.00124  \n",
       "2 -0.00073  0.00051  0.000161  0.000190          0.11869  0.00124  \n",
       "3 -0.00032  0.00026  0.000083  0.000047          0.04984  0.00058  \n",
       "4 -0.00030  0.00045  0.000060  0.000025          0.04606  0.00075  \n",
       "\n",
       "[5 rows x 50 columns]"
      ]
     },
     "execution_count": 322,
     "metadata": {},
     "output_type": "execute_result"
    }
   ],
   "source": [
    "dataset=dataset.reset_index()\n",
    "dataset.head()"
   ]
  },
  {
   "cell_type": "code",
   "execution_count": 323,
   "metadata": {},
   "outputs": [],
   "source": [
    "temp2=dataset"
   ]
  },
  {
   "cell_type": "code",
   "execution_count": 324,
   "metadata": {},
   "outputs": [],
   "source": [
    "from sklearn.model_selection import train_test_split\n",
    "from sklearn.metrics import f1_score\n",
    "from sklearn.metrics import confusion_matrix\n",
    "from sklearn.metrics import accuracy_score\n"
   ]
  },
  {
   "cell_type": "code",
   "execution_count": 325,
   "metadata": {},
   "outputs": [],
   "source": [
    "estimators=[]\n",
    "accuracy=[]\n",
    "f1_macro=[]"
   ]
  },
  {
   "cell_type": "code",
   "execution_count": 326,
   "metadata": {},
   "outputs": [
    {
     "name": "stderr",
     "output_type": "stream",
     "text": [
      "C:\\Users\\moham\\AppData\\Local\\Temp\\ipykernel_3520\\1506687212.py:1: PerformanceWarning: dropping on a non-lexsorted multi-index without a level parameter may impact performance.\n",
      "  features=dataset.drop(columns=[\"label\",\"class\"])\n"
     ]
    }
   ],
   "source": [
    "features=dataset.drop(columns=[\"label\",\"class\"])\n",
    "labels=dataset[\"class\"]"
   ]
  },
  {
   "cell_type": "code",
   "execution_count": 327,
   "metadata": {},
   "outputs": [],
   "source": [
    "##Training and testing set splitting\n",
    "X_train, X_test,y_train,y_test= train_test_split(features,labels,test_size=0.30, random_state=1)"
   ]
  },
  {
   "cell_type": "code",
   "execution_count": 328,
   "metadata": {},
   "outputs": [],
   "source": [
    "## Data normalization\n",
    "mean = X_train.mean(axis=0)\n",
    "std = X_train.std(axis=0)\n",
    "X_train -= mean\n",
    "X_train /= std\n",
    "X_test -= mean\n",
    "X_test /= std"
   ]
  },
  {
   "cell_type": "code",
   "execution_count": 329,
   "metadata": {},
   "outputs": [
    {
     "name": "stdout",
     "output_type": "stream",
     "text": [
      "x_train shape (151, 48)\n",
      "x_test shape (65, 48)\n",
      "y_train shape (151,)\n",
      "y_test shape (65,)\n"
     ]
    }
   ],
   "source": [
    "print(\"x_train shape\",X_train.shape)\n",
    "print(\"x_test shape\",X_test.shape)\n",
    "print(\"y_train shape\",y_train.shape)\n",
    "print(\"y_test shape\",y_test.shape)"
   ]
  },
  {
   "cell_type": "code",
   "execution_count": 330,
   "metadata": {},
   "outputs": [],
   "source": [
    "y_train = y_train -1\n",
    "y_test = y_test  - 1"
   ]
  },
  {
   "cell_type": "code",
   "execution_count": 331,
   "metadata": {},
   "outputs": [],
   "source": [
    "trainingtarget = y_train\n",
    "testtarget  = y_test"
   ]
  },
  {
   "cell_type": "code",
   "execution_count": 332,
   "metadata": {},
   "outputs": [
    {
     "data": {
      "text/plain": [
       "14     2\n",
       "138    0\n",
       "122    2\n",
       "56     2\n",
       "185    5\n",
       "      ..\n",
       "203    5\n",
       "137    5\n",
       "72     0\n",
       "140    2\n",
       "37     1\n",
       "Name: class, Length: 151, dtype: int64"
      ]
     },
     "execution_count": 332,
     "metadata": {},
     "output_type": "execute_result"
    }
   ],
   "source": [
    "trainingtarget"
   ]
  },
  {
   "cell_type": "code",
   "execution_count": 333,
   "metadata": {},
   "outputs": [],
   "source": [
    "from tensorflow.keras.utils import to_categorical\n",
    "# Convert labels to one-hot encoded format\n",
    "trainLabels  = to_categorical(trainingtarget)\n",
    "testLabels   = to_categorical(testtarget)"
   ]
  },
  {
   "cell_type": "code",
   "execution_count": 334,
   "metadata": {},
   "outputs": [
    {
     "data": {
      "text/plain": [
       "array([[0., 0., 1., 0., 0., 0.],\n",
       "       [1., 0., 0., 0., 0., 0.],\n",
       "       [0., 0., 1., 0., 0., 0.],\n",
       "       [0., 0., 1., 0., 0., 0.],\n",
       "       [0., 0., 0., 0., 0., 1.],\n",
       "       [0., 1., 0., 0., 0., 0.],\n",
       "       [0., 0., 0., 0., 1., 0.],\n",
       "       [0., 0., 0., 0., 0., 1.],\n",
       "       [0., 0., 1., 0., 0., 0.],\n",
       "       [0., 1., 0., 0., 0., 0.],\n",
       "       [0., 0., 0., 0., 1., 0.],\n",
       "       [0., 0., 0., 1., 0., 0.],\n",
       "       [1., 0., 0., 0., 0., 0.],\n",
       "       [0., 0., 0., 0., 0., 1.],\n",
       "       [0., 0., 0., 0., 0., 1.],\n",
       "       [0., 0., 1., 0., 0., 0.],\n",
       "       [0., 0., 0., 0., 0., 1.],\n",
       "       [1., 0., 0., 0., 0., 0.],\n",
       "       [0., 0., 0., 0., 0., 1.],\n",
       "       [1., 0., 0., 0., 0., 0.],\n",
       "       [0., 0., 0., 1., 0., 0.],\n",
       "       [1., 0., 0., 0., 0., 0.],\n",
       "       [1., 0., 0., 0., 0., 0.],\n",
       "       [0., 0., 0., 0., 0., 1.],\n",
       "       [0., 0., 0., 1., 0., 0.],\n",
       "       [0., 0., 0., 0., 1., 0.],\n",
       "       [0., 0., 0., 1., 0., 0.],\n",
       "       [1., 0., 0., 0., 0., 0.],\n",
       "       [0., 1., 0., 0., 0., 0.],\n",
       "       [1., 0., 0., 0., 0., 0.],\n",
       "       [0., 0., 1., 0., 0., 0.],\n",
       "       [1., 0., 0., 0., 0., 0.],\n",
       "       [0., 0., 1., 0., 0., 0.],\n",
       "       [0., 0., 0., 0., 0., 1.],\n",
       "       [0., 0., 0., 0., 0., 1.],\n",
       "       [0., 0., 1., 0., 0., 0.],\n",
       "       [0., 0., 0., 1., 0., 0.],\n",
       "       [0., 0., 0., 0., 1., 0.],\n",
       "       [0., 0., 0., 1., 0., 0.],\n",
       "       [0., 1., 0., 0., 0., 0.],\n",
       "       [0., 0., 0., 0., 0., 1.],\n",
       "       [0., 0., 0., 0., 1., 0.],\n",
       "       [0., 1., 0., 0., 0., 0.],\n",
       "       [0., 0., 0., 0., 1., 0.],\n",
       "       [0., 0., 0., 1., 0., 0.],\n",
       "       [1., 0., 0., 0., 0., 0.],\n",
       "       [0., 1., 0., 0., 0., 0.],\n",
       "       [1., 0., 0., 0., 0., 0.],\n",
       "       [1., 0., 0., 0., 0., 0.],\n",
       "       [0., 0., 1., 0., 0., 0.],\n",
       "       [0., 0., 0., 0., 1., 0.],\n",
       "       [0., 0., 0., 0., 1., 0.],\n",
       "       [0., 0., 1., 0., 0., 0.],\n",
       "       [0., 0., 0., 1., 0., 0.],\n",
       "       [1., 0., 0., 0., 0., 0.],\n",
       "       [0., 1., 0., 0., 0., 0.],\n",
       "       [0., 0., 0., 1., 0., 0.],\n",
       "       [0., 0., 0., 1., 0., 0.],\n",
       "       [0., 1., 0., 0., 0., 0.],\n",
       "       [0., 0., 0., 1., 0., 0.],\n",
       "       [0., 0., 1., 0., 0., 0.],\n",
       "       [0., 0., 0., 0., 1., 0.],\n",
       "       [0., 1., 0., 0., 0., 0.],\n",
       "       [0., 1., 0., 0., 0., 0.],\n",
       "       [1., 0., 0., 0., 0., 0.],\n",
       "       [0., 1., 0., 0., 0., 0.],\n",
       "       [1., 0., 0., 0., 0., 0.],\n",
       "       [0., 0., 0., 0., 0., 1.],\n",
       "       [0., 0., 0., 0., 0., 1.],\n",
       "       [0., 0., 0., 0., 0., 1.],\n",
       "       [0., 0., 0., 0., 1., 0.],\n",
       "       [0., 0., 1., 0., 0., 0.],\n",
       "       [0., 0., 1., 0., 0., 0.],\n",
       "       [0., 0., 0., 0., 1., 0.],\n",
       "       [0., 0., 0., 1., 0., 0.],\n",
       "       [0., 0., 0., 0., 1., 0.],\n",
       "       [0., 0., 0., 0., 1., 0.],\n",
       "       [0., 0., 1., 0., 0., 0.],\n",
       "       [0., 0., 0., 0., 1., 0.],\n",
       "       [0., 0., 0., 0., 0., 1.],\n",
       "       [0., 1., 0., 0., 0., 0.],\n",
       "       [0., 0., 0., 0., 1., 0.],\n",
       "       [0., 0., 0., 0., 0., 1.],\n",
       "       [0., 0., 0., 0., 0., 1.],\n",
       "       [1., 0., 0., 0., 0., 0.],\n",
       "       [0., 0., 0., 1., 0., 0.],\n",
       "       [0., 0., 0., 0., 1., 0.],\n",
       "       [0., 0., 1., 0., 0., 0.],\n",
       "       [0., 0., 1., 0., 0., 0.],\n",
       "       [0., 0., 0., 1., 0., 0.],\n",
       "       [0., 0., 0., 1., 0., 0.],\n",
       "       [0., 0., 0., 0., 1., 0.],\n",
       "       [0., 0., 0., 0., 1., 0.],\n",
       "       [0., 0., 0., 1., 0., 0.],\n",
       "       [0., 0., 0., 0., 0., 1.],\n",
       "       [0., 0., 0., 1., 0., 0.],\n",
       "       [0., 1., 0., 0., 0., 0.],\n",
       "       [0., 0., 1., 0., 0., 0.],\n",
       "       [0., 0., 0., 0., 1., 0.],\n",
       "       [0., 0., 1., 0., 0., 0.],\n",
       "       [0., 0., 0., 0., 1., 0.],\n",
       "       [0., 1., 0., 0., 0., 0.],\n",
       "       [1., 0., 0., 0., 0., 0.],\n",
       "       [0., 0., 0., 1., 0., 0.],\n",
       "       [0., 0., 0., 1., 0., 0.],\n",
       "       [0., 1., 0., 0., 0., 0.],\n",
       "       [0., 0., 0., 0., 0., 1.],\n",
       "       [0., 0., 0., 0., 0., 1.],\n",
       "       [0., 1., 0., 0., 0., 0.],\n",
       "       [1., 0., 0., 0., 0., 0.],\n",
       "       [0., 1., 0., 0., 0., 0.],\n",
       "       [0., 1., 0., 0., 0., 0.],\n",
       "       [0., 1., 0., 0., 0., 0.],\n",
       "       [0., 0., 0., 1., 0., 0.],\n",
       "       [0., 0., 1., 0., 0., 0.],\n",
       "       [1., 0., 0., 0., 0., 0.],\n",
       "       [0., 0., 1., 0., 0., 0.],\n",
       "       [0., 1., 0., 0., 0., 0.],\n",
       "       [0., 0., 0., 1., 0., 0.],\n",
       "       [0., 0., 0., 0., 1., 0.],\n",
       "       [0., 1., 0., 0., 0., 0.],\n",
       "       [0., 0., 0., 1., 0., 0.],\n",
       "       [0., 1., 0., 0., 0., 0.],\n",
       "       [0., 0., 1., 0., 0., 0.],\n",
       "       [0., 0., 0., 1., 0., 0.],\n",
       "       [0., 0., 1., 0., 0., 0.],\n",
       "       [1., 0., 0., 0., 0., 0.],\n",
       "       [0., 0., 1., 0., 0., 0.],\n",
       "       [0., 0., 1., 0., 0., 0.],\n",
       "       [0., 0., 0., 0., 1., 0.],\n",
       "       [0., 1., 0., 0., 0., 0.],\n",
       "       [1., 0., 0., 0., 0., 0.],\n",
       "       [0., 1., 0., 0., 0., 0.],\n",
       "       [0., 0., 1., 0., 0., 0.],\n",
       "       [0., 0., 0., 0., 0., 1.],\n",
       "       [0., 0., 1., 0., 0., 0.],\n",
       "       [0., 0., 0., 0., 1., 0.],\n",
       "       [0., 1., 0., 0., 0., 0.],\n",
       "       [0., 0., 1., 0., 0., 0.],\n",
       "       [0., 0., 0., 0., 0., 1.],\n",
       "       [1., 0., 0., 0., 0., 0.],\n",
       "       [0., 0., 0., 1., 0., 0.],\n",
       "       [1., 0., 0., 0., 0., 0.],\n",
       "       [1., 0., 0., 0., 0., 0.],\n",
       "       [0., 1., 0., 0., 0., 0.],\n",
       "       [0., 1., 0., 0., 0., 0.],\n",
       "       [0., 0., 0., 0., 0., 1.],\n",
       "       [0., 0., 0., 0., 0., 1.],\n",
       "       [1., 0., 0., 0., 0., 0.],\n",
       "       [0., 0., 1., 0., 0., 0.],\n",
       "       [0., 1., 0., 0., 0., 0.]], dtype=float32)"
      ]
     },
     "execution_count": 334,
     "metadata": {},
     "output_type": "execute_result"
    }
   ],
   "source": [
    "trainLabels"
   ]
  },
  {
   "cell_type": "code",
   "execution_count": 335,
   "metadata": {},
   "outputs": [
    {
     "data": {
      "text/plain": [
       "(65, 6)"
      ]
     },
     "execution_count": 335,
     "metadata": {},
     "output_type": "execute_result"
    }
   ],
   "source": [
    "testLabels.shape"
   ]
  },
  {
   "cell_type": "code",
   "execution_count": 336,
   "metadata": {},
   "outputs": [],
   "source": [
    "from tensorflow.keras import layers, Sequential, optimizers, Input, Model\n",
    "\n",
    "model = Sequential([\n",
    "    layers.Dense(1024, input_shape=(48,), activation='relu'),\n",
    "    layers.Dense(512, activation='relu'),\n",
    "    layers.Dense(256, activation='relu'),\n",
    "    layers.Dropout(0.2),  # Adding dropout with a rate of 0.2\n",
    "    layers.Dense(128, activation='relu'),\n",
    "    layers.Dense(64, activation='relu'),\n",
    "    layers.Dropout(0.2),  # Adding dropout with a rate of 0.2\n",
    "    layers.Dense(32, activation='relu'),\n",
    "    layers.Dense(16, activation='relu'),\n",
    "    layers.Dense(6, activation='softmax')\n",
    "])\n"
   ]
  },
  {
   "cell_type": "code",
   "execution_count": 337,
   "metadata": {},
   "outputs": [
    {
     "name": "stdout",
     "output_type": "stream",
     "text": [
      "Model: \"sequential_22\"\n",
      "_________________________________________________________________\n",
      " Layer (type)                Output Shape              Param #   \n",
      "=================================================================\n",
      " dense_167 (Dense)           (None, 1024)              50176     \n",
      "                                                                 \n",
      " dense_168 (Dense)           (None, 512)               524800    \n",
      "                                                                 \n",
      " dense_169 (Dense)           (None, 256)               131328    \n",
      "                                                                 \n",
      " dropout_46 (Dropout)        (None, 256)               0         \n",
      "                                                                 \n",
      " dense_170 (Dense)           (None, 128)               32896     \n",
      "                                                                 \n",
      " dense_171 (Dense)           (None, 64)                8256      \n",
      "                                                                 \n",
      " dropout_47 (Dropout)        (None, 64)                0         \n",
      "                                                                 \n",
      " dense_172 (Dense)           (None, 32)                2080      \n",
      "                                                                 \n",
      " dense_173 (Dense)           (None, 16)                528       \n",
      "                                                                 \n",
      " dense_174 (Dense)           (None, 6)                 102       \n",
      "                                                                 \n",
      "=================================================================\n",
      "Total params: 750,166\n",
      "Trainable params: 750,166\n",
      "Non-trainable params: 0\n",
      "_________________________________________________________________\n"
     ]
    }
   ],
   "source": [
    "from tensorflow.keras.callbacks import EarlyStopping\n",
    "early_stopping = EarlyStopping(monitor=\"loss\",patience=3)\n",
    "\n",
    "model.compile(optimizer='adam',\n",
    "              loss='categorical_crossentropy',\n",
    "              metrics=['accuracy'])\n",
    "model.summary()"
   ]
  },
  {
   "cell_type": "code",
   "execution_count": 338,
   "metadata": {},
   "outputs": [
    {
     "name": "stdout",
     "output_type": "stream",
     "text": [
      "(151, 48)\n"
     ]
    }
   ],
   "source": [
    "print(X_train.shape)\n"
   ]
  },
  {
   "cell_type": "code",
   "execution_count": 339,
   "metadata": {},
   "outputs": [
    {
     "name": "stdout",
     "output_type": "stream",
     "text": [
      "Epoch 1/200\n",
      "1/1 [==============================] - 3s 3s/step - loss: 1.7922 - accuracy: 0.2000 - val_loss: 1.7510 - val_accuracy: 0.2391\n",
      "Epoch 2/200\n",
      "1/1 [==============================] - 0s 71ms/step - loss: 1.7209 - accuracy: 0.2952 - val_loss: 1.6775 - val_accuracy: 0.1957\n",
      "Epoch 3/200\n",
      "1/1 [==============================] - 0s 67ms/step - loss: 1.6172 - accuracy: 0.3429 - val_loss: 1.5829 - val_accuracy: 0.2174\n",
      "Epoch 4/200\n",
      "1/1 [==============================] - 0s 67ms/step - loss: 1.5246 - accuracy: 0.3143 - val_loss: 1.4787 - val_accuracy: 0.3913\n",
      "Epoch 5/200\n",
      "1/1 [==============================] - 0s 65ms/step - loss: 1.4046 - accuracy: 0.4857 - val_loss: 1.4145 - val_accuracy: 0.5435\n",
      "Epoch 6/200\n",
      "1/1 [==============================] - 0s 68ms/step - loss: 1.2770 - accuracy: 0.4857 - val_loss: 1.3551 - val_accuracy: 0.5435\n",
      "Epoch 7/200\n",
      "1/1 [==============================] - 0s 64ms/step - loss: 1.1865 - accuracy: 0.6762 - val_loss: 1.2949 - val_accuracy: 0.6087\n",
      "Epoch 8/200\n",
      "1/1 [==============================] - 0s 70ms/step - loss: 1.0525 - accuracy: 0.6762 - val_loss: 1.2533 - val_accuracy: 0.6739\n",
      "Epoch 9/200\n",
      "1/1 [==============================] - 0s 68ms/step - loss: 0.9823 - accuracy: 0.6381 - val_loss: 1.1542 - val_accuracy: 0.6522\n",
      "Epoch 10/200\n",
      "1/1 [==============================] - 0s 69ms/step - loss: 0.9183 - accuracy: 0.7429 - val_loss: 1.0764 - val_accuracy: 0.7174\n",
      "Epoch 11/200\n",
      "1/1 [==============================] - 0s 66ms/step - loss: 0.8232 - accuracy: 0.7524 - val_loss: 1.0433 - val_accuracy: 0.7609\n",
      "Epoch 12/200\n",
      "1/1 [==============================] - 0s 67ms/step - loss: 0.6536 - accuracy: 0.7905 - val_loss: 1.0417 - val_accuracy: 0.7609\n",
      "Epoch 13/200\n",
      "1/1 [==============================] - 0s 67ms/step - loss: 0.5686 - accuracy: 0.8190 - val_loss: 1.0715 - val_accuracy: 0.7391\n",
      "Epoch 14/200\n",
      "1/1 [==============================] - 0s 66ms/step - loss: 0.4943 - accuracy: 0.8381 - val_loss: 1.0780 - val_accuracy: 0.8043\n",
      "Epoch 15/200\n",
      "1/1 [==============================] - 0s 71ms/step - loss: 0.4597 - accuracy: 0.8762 - val_loss: 1.1144 - val_accuracy: 0.8261\n",
      "Epoch 16/200\n",
      "1/1 [==============================] - 0s 70ms/step - loss: 0.2971 - accuracy: 0.9429 - val_loss: 1.1663 - val_accuracy: 0.8261\n",
      "Epoch 17/200\n",
      "1/1 [==============================] - 0s 67ms/step - loss: 0.3793 - accuracy: 0.8952 - val_loss: 1.2532 - val_accuracy: 0.8261\n",
      "Epoch 18/200\n",
      "1/1 [==============================] - 0s 68ms/step - loss: 0.2718 - accuracy: 0.9238 - val_loss: 1.3417 - val_accuracy: 0.8261\n",
      "Epoch 19/200\n",
      "1/1 [==============================] - 0s 77ms/step - loss: 0.2715 - accuracy: 0.9143 - val_loss: 1.3934 - val_accuracy: 0.8261\n",
      "Epoch 20/200\n",
      "1/1 [==============================] - 0s 71ms/step - loss: 0.2429 - accuracy: 0.9048 - val_loss: 1.4097 - val_accuracy: 0.8261\n",
      "Epoch 21/200\n",
      "1/1 [==============================] - 0s 68ms/step - loss: 0.2422 - accuracy: 0.9238 - val_loss: 1.3668 - val_accuracy: 0.8261\n",
      "Epoch 22/200\n",
      "1/1 [==============================] - 0s 69ms/step - loss: 0.2195 - accuracy: 0.9429 - val_loss: 1.4234 - val_accuracy: 0.8261\n",
      "Epoch 23/200\n",
      "1/1 [==============================] - 0s 67ms/step - loss: 0.1336 - accuracy: 0.9714 - val_loss: 1.5429 - val_accuracy: 0.8261\n",
      "Epoch 24/200\n",
      "1/1 [==============================] - 0s 70ms/step - loss: 0.1647 - accuracy: 0.9619 - val_loss: 1.6689 - val_accuracy: 0.8261\n",
      "Epoch 25/200\n",
      "1/1 [==============================] - 0s 71ms/step - loss: 0.1044 - accuracy: 0.9810 - val_loss: 1.8146 - val_accuracy: 0.7826\n",
      "Epoch 26/200\n",
      "1/1 [==============================] - 0s 67ms/step - loss: 0.1179 - accuracy: 0.9619 - val_loss: 1.9380 - val_accuracy: 0.7826\n",
      "Epoch 27/200\n",
      "1/1 [==============================] - 0s 73ms/step - loss: 0.0739 - accuracy: 0.9810 - val_loss: 1.9686 - val_accuracy: 0.7826\n",
      "Epoch 28/200\n",
      "1/1 [==============================] - 0s 70ms/step - loss: 0.1706 - accuracy: 0.9619 - val_loss: 1.8733 - val_accuracy: 0.8261\n",
      "Epoch 29/200\n",
      "1/1 [==============================] - 0s 70ms/step - loss: 0.0848 - accuracy: 0.9714 - val_loss: 1.9035 - val_accuracy: 0.8478\n",
      "Epoch 30/200\n",
      "1/1 [==============================] - 0s 67ms/step - loss: 0.0825 - accuracy: 0.9810 - val_loss: 1.9785 - val_accuracy: 0.8478\n",
      "Model: \"sequential_22\"\n",
      "_________________________________________________________________\n",
      " Layer (type)                Output Shape              Param #   \n",
      "=================================================================\n",
      " dense_167 (Dense)           (None, 1024)              50176     \n",
      "                                                                 \n",
      " dense_168 (Dense)           (None, 512)               524800    \n",
      "                                                                 \n",
      " dense_169 (Dense)           (None, 256)               131328    \n",
      "                                                                 \n",
      " dropout_46 (Dropout)        (None, 256)               0         \n",
      "                                                                 \n",
      " dense_170 (Dense)           (None, 128)               32896     \n",
      "                                                                 \n",
      " dense_171 (Dense)           (None, 64)                8256      \n",
      "                                                                 \n",
      " dropout_47 (Dropout)        (None, 64)                0         \n",
      "                                                                 \n",
      " dense_172 (Dense)           (None, 32)                2080      \n",
      "                                                                 \n",
      " dense_173 (Dense)           (None, 16)                528       \n",
      "                                                                 \n",
      " dense_174 (Dense)           (None, 6)                 102       \n",
      "                                                                 \n",
      "=================================================================\n",
      "Total params: 750,166\n",
      "Trainable params: 750,166\n",
      "Non-trainable params: 0\n",
      "_________________________________________________________________\n"
     ]
    }
   ],
   "source": [
    "batch_size = 512            \n",
    "epochs = 200            \n",
    "\n",
    "history = model.fit(X_train,trainLabels,\n",
    "                    batch_size=batch_size,\n",
    "                    epochs = epochs,\n",
    "                    validation_split = 0.3,\n",
    "                    callbacks=[early_stopping]\n",
    "                     )\n",
    "\n",
    "model.summary()"
   ]
  },
  {
   "cell_type": "code",
   "execution_count": 340,
   "metadata": {},
   "outputs": [
    {
     "name": "stdout",
     "output_type": "stream",
     "text": [
      "1/1 - 0s - loss: 1.3311 - accuracy: 0.8308 - 40ms/epoch - 40ms/step\n",
      "\n",
      "Test loss : 133.1131100654602 %\n",
      "Test accuracy : 83.07692408561707 %\n"
     ]
    }
   ],
   "source": [
    "evaluation = model.evaluate(X_test,  testLabels,batch_size=batch_size, verbose=2)\n",
    "print()\n",
    "print(\"Test loss :\",evaluation[0]*100,\"%\")\n",
    "print(\"Test accuracy :\",evaluation[1]*100,\"%\")"
   ]
  },
  {
   "cell_type": "code",
   "execution_count": 341,
   "metadata": {},
   "outputs": [
    {
     "name": "stdout",
     "output_type": "stream",
     "text": [
      "3/3 [==============================] - 0s 3ms/step\n",
      "[[9.97202277e-01 6.22632069e-05 8.33580707e-05 2.56797415e-03\n",
      "  2.17098586e-05 6.25120811e-05]\n",
      " [4.56975686e-04 2.78348406e-03 5.35360368e-06 9.72820163e-01\n",
      "  3.65909480e-04 2.35680044e-02]\n",
      " [1.34928224e-09 9.76076109e-10 2.18797344e-04 7.09482606e-07\n",
      "  9.99780357e-01 6.66765132e-08]\n",
      " [4.24177832e-10 7.14580617e-11 1.20837040e-05 1.74200554e-09\n",
      "  5.89292018e-11 9.99987960e-01]\n",
      " [1.19982706e-02 5.72980046e-01 2.56340355e-01 9.83008444e-02\n",
      "  3.66085432e-02 2.37719640e-02]\n",
      " [6.29366785e-02 3.05527627e-01 8.57379884e-02 1.18549973e-01\n",
      "  3.97937465e-03 4.23268288e-01]\n",
      " [1.86826856e-11 1.31304356e-10 2.76708815e-05 3.36826673e-07\n",
      "  9.99971986e-01 1.91087359e-08]\n",
      " [2.27965824e-08 9.99881387e-01 1.30252303e-07 1.18421180e-04\n",
      "  2.51687018e-13 9.86638860e-09]\n",
      " [9.98570800e-01 2.76286573e-05 4.40507501e-05 1.31452747e-03\n",
      "  6.80306221e-06 3.61779785e-05]\n",
      " [7.41658255e-08 5.19600292e-07 2.30882055e-04 4.53169108e-04\n",
      "  9.99307156e-01 8.20110654e-06]\n",
      " [1.54353530e-10 4.60778471e-10 1.49924672e-04 2.20793481e-07\n",
      "  9.99849677e-01 7.42246300e-08]\n",
      " [1.06468040e-04 1.13120619e-02 8.74245167e-01 2.32809084e-03\n",
      "  9.49740479e-06 1.11998633e-01]\n",
      " [9.99302387e-01 5.46808224e-06 1.64612502e-05 6.63189858e-04\n",
      "  4.83787335e-06 7.71985560e-06]\n",
      " [8.04168463e-01 1.40619436e-02 9.91297662e-02 4.78114150e-02\n",
      "  3.83635401e-03 3.09920013e-02]\n",
      " [1.51163840e-04 1.53025449e-03 4.74800436e-06 9.90224779e-01\n",
      "  1.14856358e-03 6.94055483e-03]\n",
      " [1.11557310e-02 7.87203252e-01 1.32453769e-01 5.43781333e-02\n",
      "  4.30560624e-03 1.05035082e-02]\n",
      " [1.08638786e-14 3.45279426e-12 2.75763124e-01 1.26344296e-10\n",
      "  7.24236846e-01 5.27120188e-12]\n",
      " [2.71212903e-05 4.91319042e-05 1.86238613e-05 3.20380903e-04\n",
      "  3.96401951e-08 9.99584734e-01]\n",
      " [4.07180914e-06 2.51221491e-06 2.43896866e-04 4.52848235e-06\n",
      "  1.76456769e-08 9.99744952e-01]\n",
      " [2.47246339e-06 6.26059948e-04 6.26611474e-09 9.98389482e-01\n",
      "  6.45679791e-07 9.81400022e-04]\n",
      " [3.60201170e-07 1.25524120e-05 4.47170496e-05 8.87423158e-02\n",
      "  9.11116719e-01 8.33007507e-05]\n",
      " [1.75648051e-06 6.86433559e-05 6.35796653e-07 9.88206208e-01\n",
      "  1.03036650e-02 1.41909625e-03]\n",
      " [2.95662949e-06 2.15077094e-07 1.01999767e-05 4.87805255e-06\n",
      "  2.14777298e-08 9.99981761e-01]\n",
      " [4.82855830e-05 1.13093647e-05 2.19038498e-04 1.78044778e-04\n",
      "  3.07754385e-06 9.99540210e-01]\n",
      " [1.40645961e-05 2.08838057e-04 1.55778906e-07 5.94572067e-01\n",
      "  2.06878767e-07 4.05204713e-01]\n",
      " [9.99624968e-01 2.56508429e-06 9.35966636e-06 3.57023266e-04\n",
      "  1.77025493e-06 4.23194160e-06]\n",
      " [2.70429183e-07 1.46193827e-07 1.64152226e-07 4.12762893e-05\n",
      "  1.51147683e-09 9.99958158e-01]\n",
      " [5.01232535e-05 1.99160283e-03 1.43801088e-07 9.87614989e-01\n",
      "  2.30424962e-06 1.03409104e-02]\n",
      " [6.33859116e-08 2.76759147e-06 9.96188700e-01 5.06916149e-06\n",
      "  3.80164664e-03 1.69812949e-06]\n",
      " [1.03057055e-05 1.31219125e-03 1.06943734e-08 9.89149272e-01\n",
      "  6.90114987e-08 9.52822622e-03]\n",
      " [1.53372341e-04 9.88992989e-01 4.35528258e-04 1.03284186e-02\n",
      "  6.50494712e-07 8.90894007e-05]\n",
      " [9.99110281e-01 6.76430000e-06 2.40476656e-05 8.38625536e-04\n",
      "  7.94602965e-06 1.22615493e-05]\n",
      " [5.58373358e-07 4.78978254e-05 9.96306777e-01 5.10420905e-05\n",
      "  2.59619719e-05 3.56779061e-03]\n",
      " [4.70978448e-05 3.28446040e-04 9.66153800e-01 5.77694387e-04\n",
      "  3.13072465e-03 2.97621991e-02]\n",
      " [8.53834022e-03 9.05928135e-01 1.07254628e-02 6.14347123e-02\n",
      "  2.30347694e-04 1.31430170e-02]\n",
      " [6.25581233e-05 4.53234170e-05 4.37636481e-04 5.45910261e-05\n",
      "  2.03283463e-07 9.99399662e-01]\n",
      " [9.99667048e-01 1.81635528e-06 7.27556471e-06 3.19383136e-04\n",
      "  1.64599032e-06 2.84508769e-06]\n",
      " [6.86437124e-05 9.65987425e-03 5.38819904e-07 9.71307039e-01\n",
      "  1.73220394e-06 1.89622119e-02]\n",
      " [3.55119118e-03 9.34534848e-01 6.57356810e-03 5.15422821e-02\n",
      "  1.06324514e-04 3.69183416e-03]\n",
      " [5.66204952e-04 6.87065651e-04 9.91145134e-06 9.61810172e-01\n",
      "  7.99954031e-03 2.89271679e-02]\n",
      " [9.77317929e-01 3.01174327e-06 1.23792459e-04 6.77152304e-03\n",
      "  1.56020727e-02 1.81596479e-04]\n",
      " [1.97173702e-14 7.51785570e-13 5.59396285e-04 5.81752924e-10\n",
      "  9.99440610e-01 5.30937967e-11]\n",
      " [9.20644104e-01 8.95538367e-03 2.90254620e-03 5.76529950e-02\n",
      "  6.67527609e-04 9.17745102e-03]\n",
      " [7.71839314e-06 1.10552809e-03 9.95002214e-09 9.94979680e-01\n",
      "  2.48013436e-07 3.90677713e-03]\n",
      " [8.79182025e-08 4.13826092e-05 9.01960971e-12 9.99692559e-01\n",
      "  2.06673123e-09 2.65980751e-04]\n",
      " [1.71473021e-05 4.80566923e-05 2.64657992e-05 2.67493771e-04\n",
      "  2.78491310e-08 9.99640822e-01]\n",
      " [1.08691384e-04 1.04002571e-02 1.88711215e-06 9.53833520e-01\n",
      "  5.17159697e-06 3.56505848e-02]\n",
      " [1.24844650e-04 5.50022305e-05 1.14553077e-04 5.01076458e-04\n",
      "  1.44241483e-06 9.99203146e-01]\n",
      " [6.98843721e-08 1.34870515e-06 4.96245712e-01 7.07057279e-06\n",
      "  5.03740370e-01 5.45693501e-06]\n",
      " [1.72889046e-02 8.43577743e-01 3.08367647e-02 8.57888684e-02\n",
      "  1.98846101e-03 2.05192361e-02]\n",
      " [3.85847205e-04 1.13952775e-02 9.67740834e-01 5.62717672e-03\n",
      "  5.20460261e-03 9.64611210e-03]\n",
      " [1.70515978e-06 2.28169288e-08 1.55448378e-03 3.46997081e-06\n",
      "  9.98422980e-01 1.74325523e-05]\n",
      " [1.88486649e-09 4.01341668e-11 5.59459785e-08 7.71893993e-10\n",
      "  5.69527227e-13 1.00000000e+00]\n",
      " [9.99778450e-01 7.84355564e-07 5.19503647e-06 2.12409941e-04\n",
      "  1.76120375e-06 1.39121539e-06]\n",
      " [1.08016402e-05 1.82538715e-05 9.63363800e-06 5.16688975e-04\n",
      "  6.37441460e-08 9.99444544e-01]\n",
      " [9.99466717e-01 3.66287281e-06 1.18140251e-05 5.09517733e-04\n",
      "  3.21749008e-06 5.13676559e-06]\n",
      " [5.10941561e-07 9.45651409e-05 5.63720667e-11 9.98667002e-01\n",
      "  2.95136626e-09 1.23796309e-03]\n",
      " [9.97551143e-01 4.35455877e-05 8.63155365e-05 2.24119169e-03\n",
      "  3.00558386e-05 4.77089852e-05]\n",
      " [9.99794304e-01 5.30692034e-07 6.55902159e-06 1.93688596e-04\n",
      "  3.47131549e-06 1.46555749e-06]\n",
      " [2.48275160e-06 3.18842870e-03 3.03568370e-09 9.93435621e-01\n",
      "  1.66916774e-08 3.37345875e-03]\n",
      " [6.22402740e-06 1.02578162e-03 5.02250493e-01 2.28089673e-04\n",
      "  1.37972989e-07 4.96489286e-01]\n",
      " [2.24494645e-09 7.40815009e-09 1.95690038e-04 4.85702003e-06\n",
      "  9.99798715e-01 6.88164050e-07]\n",
      " [3.18652837e-07 1.09394263e-08 3.76780168e-04 4.86294812e-06\n",
      "  9.99616742e-01 1.30743513e-06]\n",
      " [2.16837798e-05 6.08047878e-04 3.53758293e-03 2.00632756e-04\n",
      "  6.54763355e-09 9.95632052e-01]\n",
      " [1.85287519e-07 9.99824464e-01 6.91625473e-07 1.74586618e-04\n",
      "  2.97790612e-12 1.25652491e-07]]\n"
     ]
    }
   ],
   "source": [
    "y_pred=model.predict(X_test)\n",
    "print(y_pred)\n",
    "# print(y_test)"
   ]
  },
  {
   "cell_type": "code",
   "execution_count": 342,
   "metadata": {},
   "outputs": [
    {
     "name": "stdout",
     "output_type": "stream",
     "text": [
      "3/3 [==============================] - 0s 3ms/step\n",
      "[0 3 4 5 0 1 4 1 0 4 4 1 0 0 3 1 4 5 5 3 4 3 5 5 3 0 5 3 2 3 1 0 2 2 1 5 0\n",
      " 3 1 3 0 4 0 3 3 5 3 5 4 1 2 4 5 0 5 0 3 0 0 3 5 4 4 5 1]\n"
     ]
    }
   ],
   "source": [
    "# Prediction & confusion matrix - test data\n",
    "y_prob = model.predict(X_test)\n",
    "y_pred = np.argmax(y_prob, axis=1)\n",
    "print(y_pred)"
   ]
  },
  {
   "cell_type": "code",
   "execution_count": 343,
   "metadata": {},
   "outputs": [
    {
     "name": "stdout",
     "output_type": "stream",
     "text": [
      "[0 3 4 2 1 5]\n"
     ]
    }
   ],
   "source": [
    "print(testtarget.unique())"
   ]
  },
  {
   "cell_type": "code",
   "execution_count": 344,
   "metadata": {},
   "outputs": [
    {
     "name": "stdout",
     "output_type": "stream",
     "text": [
      "[[11  0  0  0  0  0]\n",
      " [ 1  6  0  0  1  0]\n",
      " [ 1  1  2  0  0  4]\n",
      " [ 0  0  0 12  0  0]\n",
      " [ 1  0  0  2 10  0]\n",
      " [ 0  2  2  0  0  9]]\n"
     ]
    }
   ],
   "source": [
    "table1 = confusion_matrix(testtarget,y_pred)\n",
    "print(table1)"
   ]
  },
  {
   "cell_type": "code",
   "execution_count": 345,
   "metadata": {},
   "outputs": [],
   "source": [
    "# save the f1_score that used y_test and y_pred in y\n",
    "y=f1_score(testtarget,y_pred,average='macro') \n",
    "\n",
    "# calculate the accuracy and store it in a\n",
    "a=accuracy_score(testtarget,y_pred)"
   ]
  },
  {
   "cell_type": "code",
   "execution_count": 346,
   "metadata": {},
   "outputs": [
    {
     "name": "stdout",
     "output_type": "stream",
     "text": [
      "0.7279889391654097\n",
      "0.7692307692307693\n"
     ]
    }
   ],
   "source": [
    "print(y)\n",
    "print(a)"
   ]
  },
  {
   "cell_type": "code",
   "execution_count": 347,
   "metadata": {},
   "outputs": [],
   "source": [
    "# testtarget = testtarget +1 \n",
    "# y_pred = y_pred +1"
   ]
  },
  {
   "cell_type": "code",
   "execution_count": 348,
   "metadata": {},
   "outputs": [
    {
     "data": {
      "text/plain": [
       "array([0, 3, 4, 2, 1, 5], dtype=int64)"
      ]
     },
     "execution_count": 348,
     "metadata": {},
     "output_type": "execute_result"
    }
   ],
   "source": [
    "testtarget.unique()"
   ]
  },
  {
   "cell_type": "code",
   "execution_count": 349,
   "metadata": {},
   "outputs": [
    {
     "data": {
      "image/png": "[encoded data removed]",
      "text/plain": [
       "<Figure size 640x480 with 2 Axes>"
      ]
     },
     "metadata": {},
     "output_type": "display_data"
    }
   ],
   "source": [
    "from sklearn.metrics import confusion_matrix, ConfusionMatrixDisplay\n",
    "disp = ConfusionMatrixDisplay(confusion_matrix=table1)\n",
    "disp.plot()\n",
    "plt.show()"
   ]
  },
  {
   "cell_type": "code",
   "execution_count": null,
   "metadata": {},
   "outputs": [],
   "source": []
  }
 ],
 "metadata": {
  "kernelspec": {
   "display_name": "Python 3",
   "language": "python",
   "name": "python3"
  },
  "language_info": {
   "codemirror_mode": {
    "name": "ipython",
    "version": 3
   },
   "file_extension": ".py",
   "mimetype": "text/x-python",
   "name": "python",
   "nbconvert_exporter": "python",
   "pygments_lexer": "ipython3",
   "version": "3.11.0"
  },
  "orig_nbformat": 4
 },
 "nbformat": 4,
 "nbformat_minor": 2
}
