{
 "cells": [
  {
   "cell_type": "code",
   "execution_count": 21,
   "metadata": {},
   "outputs": [],
   "source": [
    "import pandas as pd\n",
    "import tensorflow as tf\n",
    "import matplotlib.pyplot as plt\n",
    "import numpy as np\n",
    "from tensorflow import keras\n",
    "from tensorflow.keras import layers, models\n",
    "%matplotlib inline"
   ]
  },
  {
   "cell_type": "code",
   "execution_count": 22,
   "metadata": {},
   "outputs": [],
   "source": [
    "df = pd.read_csv(\"EMG-data.csv\")"
   ]
  },
  {
   "cell_type": "code",
   "execution_count": 23,
   "metadata": {},
   "outputs": [
    {
     "name": "stdout",
     "output_type": "stream",
     "text": [
      "   time  channel1  channel2  channel3  channel4  channel5  channel6  channel7   \n",
      "0     1   0.00001  -0.00002  -0.00001  -0.00003   0.00000  -0.00001   0.00000  \\\n",
      "1     5   0.00001  -0.00002  -0.00001  -0.00003   0.00000  -0.00001   0.00000   \n",
      "2     6  -0.00001   0.00001   0.00002   0.00000   0.00001  -0.00002  -0.00001   \n",
      "3     7  -0.00001   0.00001   0.00002   0.00000   0.00001  -0.00002  -0.00001   \n",
      "4     8  -0.00001   0.00001   0.00002   0.00000   0.00001  -0.00002  -0.00001   \n",
      "\n",
      "   channel8  class  label  \n",
      "0  -0.00001      0      1  \n",
      "1  -0.00001      0      1  \n",
      "2   0.00001      0      1  \n",
      "3   0.00001      0      1  \n",
      "4   0.00001      0      1  \n",
      "(4237907, 11)\n",
      "\n",
      "empty values: 0\n"
     ]
    }
   ],
   "source": [
    "print(df.head())\n",
    "print(df.shape)\n",
    "print(\"\\nempty values:\",df.isnull().any().sum()) "
   ]
  },
  {
   "cell_type": "code",
   "execution_count": 24,
   "metadata": {},
   "outputs": [
    {
     "name": "stdout",
     "output_type": "stream",
     "text": [
      "class : [0 1 2 3 4 5 6 7]\n",
      "\n",
      "Labels : [ 1  2  3  4  5  6  7  8  9 10 11 12 13 14 15 16 17 18 19 20 21 22 23 24\n",
      " 25 26 27 28 29 30 31 32 33 34 35 36]\n",
      "Value Count :\n",
      " class\n",
      "0    2725157\n",
      "6     253009\n",
      "5     251733\n",
      "4     251570\n",
      "1     250055\n",
      "3     249494\n",
      "2     243193\n",
      "7      13696\n",
      "Name: count, dtype: int64\n"
     ]
    }
   ],
   "source": [
    "print(\"class :\", df[\"class\"].unique())\n",
    "print()\n",
    "print(\"Labels :\",df[\"label\"].unique()) # 36 people hand gesture data\n",
    "#print()\n",
    "print(\"Value Count :\\n\",df[\"class\"].value_counts())"
   ]
  },
  {
   "cell_type": "code",
   "execution_count": 25,
   "metadata": {},
   "outputs": [
    {
     "data": {
      "text/html": [
       "<div>\n",
       "<style scoped>\n",
       "    .dataframe tbody tr th:only-of-type {\n",
       "        vertical-align: middle;\n",
       "    }\n",
       "\n",
       "    .dataframe tbody tr th {\n",
       "        vertical-align: top;\n",
       "    }\n",
       "\n",
       "    .dataframe thead th {\n",
       "        text-align: right;\n",
       "    }\n",
       "</style>\n",
       "<table border=\"1\" class=\"dataframe\">\n",
       "  <thead>\n",
       "    <tr style=\"text-align: right;\">\n",
       "      <th></th>\n",
       "      <th>channel1</th>\n",
       "      <th>channel2</th>\n",
       "      <th>channel3</th>\n",
       "      <th>channel4</th>\n",
       "      <th>channel5</th>\n",
       "      <th>channel6</th>\n",
       "      <th>channel7</th>\n",
       "      <th>channel8</th>\n",
       "    </tr>\n",
       "  </thead>\n",
       "  <tbody>\n",
       "    <tr>\n",
       "      <th>0</th>\n",
       "      <td>0.00001</td>\n",
       "      <td>-0.00002</td>\n",
       "      <td>-0.00001</td>\n",
       "      <td>-0.00003</td>\n",
       "      <td>0.00000</td>\n",
       "      <td>-0.00001</td>\n",
       "      <td>0.00000</td>\n",
       "      <td>-0.00001</td>\n",
       "    </tr>\n",
       "    <tr>\n",
       "      <th>1</th>\n",
       "      <td>0.00001</td>\n",
       "      <td>-0.00002</td>\n",
       "      <td>-0.00001</td>\n",
       "      <td>-0.00003</td>\n",
       "      <td>0.00000</td>\n",
       "      <td>-0.00001</td>\n",
       "      <td>0.00000</td>\n",
       "      <td>-0.00001</td>\n",
       "    </tr>\n",
       "    <tr>\n",
       "      <th>2</th>\n",
       "      <td>-0.00001</td>\n",
       "      <td>0.00001</td>\n",
       "      <td>0.00002</td>\n",
       "      <td>0.00000</td>\n",
       "      <td>0.00001</td>\n",
       "      <td>-0.00002</td>\n",
       "      <td>-0.00001</td>\n",
       "      <td>0.00001</td>\n",
       "    </tr>\n",
       "    <tr>\n",
       "      <th>3</th>\n",
       "      <td>-0.00001</td>\n",
       "      <td>0.00001</td>\n",
       "      <td>0.00002</td>\n",
       "      <td>0.00000</td>\n",
       "      <td>0.00001</td>\n",
       "      <td>-0.00002</td>\n",
       "      <td>-0.00001</td>\n",
       "      <td>0.00001</td>\n",
       "    </tr>\n",
       "    <tr>\n",
       "      <th>4</th>\n",
       "      <td>-0.00001</td>\n",
       "      <td>0.00001</td>\n",
       "      <td>0.00002</td>\n",
       "      <td>0.00000</td>\n",
       "      <td>0.00001</td>\n",
       "      <td>-0.00002</td>\n",
       "      <td>-0.00001</td>\n",
       "      <td>0.00001</td>\n",
       "    </tr>\n",
       "  </tbody>\n",
       "</table>\n",
       "</div>"
      ],
      "text/plain": [
       "   channel1  channel2  channel3  channel4  channel5  channel6  channel7   \n",
       "0   0.00001  -0.00002  -0.00001  -0.00003   0.00000  -0.00001   0.00000  \\\n",
       "1   0.00001  -0.00002  -0.00001  -0.00003   0.00000  -0.00001   0.00000   \n",
       "2  -0.00001   0.00001   0.00002   0.00000   0.00001  -0.00002  -0.00001   \n",
       "3  -0.00001   0.00001   0.00002   0.00000   0.00001  -0.00002  -0.00001   \n",
       "4  -0.00001   0.00001   0.00002   0.00000   0.00001  -0.00002  -0.00001   \n",
       "\n",
       "   channel8  \n",
       "0  -0.00001  \n",
       "1  -0.00001  \n",
       "2   0.00001  \n",
       "3   0.00001  \n",
       "4   0.00001  "
      ]
     },
     "metadata": {},
     "output_type": "display_data"
    }
   ],
   "source": [
    "features = df.drop(columns=[\"label\",\"class\",\"time\"])\n",
    "display(features.head())\n",
    "#print(features.shape())"
   ]
  },
  {
   "cell_type": "code",
   "execution_count": 26,
   "metadata": {},
   "outputs": [
    {
     "name": "stdout",
     "output_type": "stream",
     "text": [
      "[0 1 2 3 4 5 6 7]\n"
     ]
    }
   ],
   "source": [
    "Class = df[\"class\"]\n",
    "print(Class.unique())\n",
    "#print(Class.shape())"
   ]
  },
  {
   "cell_type": "code",
   "execution_count": 27,
   "metadata": {},
   "outputs": [
    {
     "name": "stdout",
     "output_type": "stream",
     "text": [
      "<class 'pandas.core.series.Series'>\n",
      "<class 'pandas.core.frame.DataFrame'>\n",
      "<class 'numpy.ndarray'>\n",
      "<class 'numpy.ndarray'>\n"
     ]
    }
   ],
   "source": [
    "print(type(Class))\n",
    "print(type(features))\n",
    "\n",
    "Class = Class.values\n",
    "features = features.values\n",
    "\n",
    "print(type(Class))\n",
    "print(type(features))"
   ]
  },
  {
   "cell_type": "code",
   "execution_count": 28,
   "metadata": {},
   "outputs": [],
   "source": [
    "# split in training 70%, validation 10 %,  test 20% test \n",
    "from sklearn.model_selection import train_test_split\n",
    "# 80 and 20\n",
    "x_train, x_test, y_train, y_test = train_test_split(features, Class, test_size=0.2, random_state=1)"
   ]
  },
  {
   "cell_type": "code",
   "execution_count": 29,
   "metadata": {},
   "outputs": [
    {
     "name": "stdout",
     "output_type": "stream",
     "text": [
      "x_train shape (3390325, 8)\n",
      "x_test shape (847582, 8)\n",
      "y_train shape (3390325,)\n",
      "y_test shape (847582,)\n"
     ]
    }
   ],
   "source": [
    "print(\"x_train shape\",x_train.shape)\n",
    "print(\"x_test shape\",x_test.shape)\n",
    "print(\"y_train shape\",y_train.shape)\n",
    "print(\"y_test shape\",y_test.shape)"
   ]
  },
  {
   "cell_type": "code",
   "execution_count": 30,
   "metadata": {},
   "outputs": [],
   "source": [
    "# Normalizing data\n",
    "mean = x_train.mean(axis=0)\n",
    "std = x_train.std(axis=0)\n",
    "\n",
    "x_train -= mean\n",
    "x_train /= std\n",
    "\n",
    "x_test -= mean\n",
    "x_test /= std"
   ]
  },
  {
   "cell_type": "code",
   "execution_count": 31,
   "metadata": {},
   "outputs": [
    {
     "name": "stdout",
     "output_type": "stream",
     "text": [
      "x_train shape (3390325, 8)\n",
      "x_test shape (847582, 8)\n",
      "y_train shape (3390325,)\n",
      "y_test shape (847582,)\n"
     ]
    }
   ],
   "source": [
    "print(\"x_train shape\",x_train.shape)\n",
    "print(\"x_test shape\",x_test.shape)\n",
    "print(\"y_train shape\",y_train.shape)\n",
    "print(\"y_test shape\",y_test.shape)"
   ]
  },
  {
   "cell_type": "code",
   "execution_count": 32,
   "metadata": {},
   "outputs": [],
   "source": [
    "# one hot encoding Labels\n",
    "y_train = tf.keras.utils.to_categorical(y_train)\n",
    "y_test = tf.keras.utils.to_categorical(y_test)"
   ]
  },
  {
   "cell_type": "code",
   "execution_count": 33,
   "metadata": {},
   "outputs": [
    {
     "name": "stdout",
     "output_type": "stream",
     "text": [
      "x_train shape (3390325, 8)\n",
      "x_test shape (847582, 8)\n",
      "y_train shape (3390325, 8)\n",
      "y_test shape (847582, 8)\n"
     ]
    }
   ],
   "source": [
    "print(\"x_train shape\",x_train.shape)\n",
    "print(\"x_test shape\",x_test.shape)\n",
    "print(\"y_train shape\",y_train.shape)\n",
    "print(\"y_test shape\",y_test.shape)"
   ]
  },
  {
   "cell_type": "code",
   "execution_count": 34,
   "metadata": {},
   "outputs": [],
   "source": [
    "# creating a function for plotting\n",
    "def plot(loss,val_loss,acc,val_acc):\n",
    "    loss = history.history['loss']\n",
    "    val_loss = history.history['val_loss']\n",
    "\n",
    "    epochs = range(1, len(loss) + 1)\n",
    "\n",
    "    plt.plot(epochs, loss, 'bo', label='Training loss')\n",
    "    plt.plot(epochs, val_loss, 'b', label='Validation loss')\n",
    "    plt.title('Training and validation loss')\n",
    "    plt.xlabel('Epochs')\n",
    "    plt.ylabel('Loss')\n",
    "    plt.legend()\n",
    "    plt.show()\n",
    "\n",
    "    acc = history.history['accuracy']\n",
    "    val_acc = history.history['val_accuracy']\n",
    "\n",
    "    epochs = range(1, len(acc) + 1)\n",
    "\n",
    "    plt.plot(epochs, acc, 'bo', label='Training acc')\n",
    "    plt.plot(epochs, val_acc, 'b', label='Validation acc')\n",
    "    plt.title('Training and validation acc')\n",
    "    plt.xlabel('Epochs')\n",
    "    plt.ylabel('acc')\n",
    "    plt.legend()\n",
    "    plt.show()"
   ]
  },
  {
   "cell_type": "code",
   "execution_count": 40,
   "metadata": {},
   "outputs": [],
   "source": [
    "from keras.models import Sequential\n",
    "from keras.layers import Conv1D, MaxPooling1D, Flatten, Dense\n",
    "\n",
    "# Define input shape\n",
    "input_shape = (8, 1)\n",
    "\n",
    "# Define model architecture\n",
    "model = Sequential()\n",
    "model.add(Conv1D(32, kernel_size=3, activation='relu', input_shape=input_shape))\n",
    "model.add(MaxPooling1D(pool_size=1)) # Change pool_size to 1\n",
    "model.add(Conv1D(64, kernel_size=3, activation='relu'))\n",
    "model.add(MaxPooling1D(pool_size=1)) # Change pool_size to 1\n",
    "model.add(Flatten())\n",
    "model.add(Dense(128, activation='relu'))\n",
    "model.add(Dense(8, activation='softmax'))\n",
    "\n",
    "# Compile model\n",
    "model.compile(loss='categorical_crossentropy', optimizer='adam', metrics=['accuracy'])\n"
   ]
  },
  {
   "cell_type": "code",
   "execution_count": 41,
   "metadata": {},
   "outputs": [],
   "source": [
    "# saving model, creating log for tensorboaed and applying few callbacks\n",
    "\n",
    "def callbacks(Log,Dir):\n",
    "  import tensorflow as tf\n",
    "  import os\n",
    "\n",
    "  Filepath = Path\n",
    "  logdir = os.path.join(Filepath, Dir)\n",
    "  \n",
    "  callbacks_list = [tf.keras.callbacks.TensorBoard(\n",
    "                    log_dir=logdir,                 #  tensorboard log path      \n",
    "                    histogram_freq=1,),\n",
    "                    tf.keras.callbacks.EarlyStopping(   # stop if not improving\n",
    "                    monitor='val_accuracy',patience=2,),           # monitor validation accuracy\n",
    "                    #tf.keras.callbacks.ReduceLROnPlateau(\n",
    "                    #monitor='val_loss',factor=0.1,         # lr ko .1 se multiply kerdo (kam kerdo)\n",
    "                    #patience=10,),                # reduce the lrate if val loss stop improving\n",
    "                    tf.keras.callbacks.ModelCheckpoint(\n",
    "                    filepath= Filepath,             # save model path\n",
    "                    monitor='val_loss',             # only save best weights\n",
    "                    save_best_only=True,)]\n",
    "  return callbacks_list"
   ]
  },
  {
   "cell_type": "code",
   "execution_count": 42,
   "metadata": {},
   "outputs": [
    {
     "name": "stdout",
     "output_type": "stream",
     "text": [
      "Epoch 1/200\n",
      "6617/6622 [============================>.] - ETA: 0s - loss: 0.9134 - accuracy: 0.6456"
     ]
    },
    {
     "name": "stderr",
     "output_type": "stream",
     "text": [
      "WARNING:absl:Found untraced functions such as _jit_compiled_convolution_op, _jit_compiled_convolution_op, _update_step_xla while saving (showing 3 of 3). These functions will not be directly callable after loading.\n"
     ]
    },
    {
     "name": "stdout",
     "output_type": "stream",
     "text": [
      "INFO:tensorflow:Assets written to: model1\\assets\n"
     ]
    },
    {
     "name": "stderr",
     "output_type": "stream",
     "text": [
      "INFO:tensorflow:Assets written to: model1\\assets\n"
     ]
    },
    {
     "name": "stdout",
     "output_type": "stream",
     "text": [
      "6622/6622 [==============================] - 39s 6ms/step - loss: 0.9134 - accuracy: 0.6456 - val_loss: 0.8922 - val_accuracy: 0.6483\n",
      "Epoch 2/200\n",
      "6621/6622 [============================>.] - ETA: 0s - loss: 0.8859 - accuracy: 0.6501"
     ]
    },
    {
     "name": "stderr",
     "output_type": "stream",
     "text": [
      "WARNING:absl:Found untraced functions such as _jit_compiled_convolution_op, _jit_compiled_convolution_op, _update_step_xla while saving (showing 3 of 3). These functions will not be directly callable after loading.\n"
     ]
    },
    {
     "name": "stdout",
     "output_type": "stream",
     "text": [
      "INFO:tensorflow:Assets written to: model1\\assets\n"
     ]
    },
    {
     "name": "stderr",
     "output_type": "stream",
     "text": [
      "INFO:tensorflow:Assets written to: model1\\assets\n"
     ]
    },
    {
     "name": "stdout",
     "output_type": "stream",
     "text": [
      "6622/6622 [==============================] - 37s 6ms/step - loss: 0.8859 - accuracy: 0.6501 - val_loss: 0.8821 - val_accuracy: 0.6509\n",
      "Epoch 3/200\n",
      "6618/6622 [============================>.] - ETA: 0s - loss: 0.8753 - accuracy: 0.6538"
     ]
    },
    {
     "name": "stderr",
     "output_type": "stream",
     "text": [
      "WARNING:absl:Found untraced functions such as _jit_compiled_convolution_op, _jit_compiled_convolution_op, _update_step_xla while saving (showing 3 of 3). These functions will not be directly callable after loading.\n"
     ]
    },
    {
     "name": "stdout",
     "output_type": "stream",
     "text": [
      "INFO:tensorflow:Assets written to: model1\\assets\n"
     ]
    },
    {
     "name": "stderr",
     "output_type": "stream",
     "text": [
      "INFO:tensorflow:Assets written to: model1\\assets\n"
     ]
    },
    {
     "name": "stdout",
     "output_type": "stream",
     "text": [
      "6622/6622 [==============================] - 37s 6ms/step - loss: 0.8752 - accuracy: 0.6538 - val_loss: 0.8721 - val_accuracy: 0.6540\n",
      "Epoch 4/200\n",
      "6621/6622 [============================>.] - ETA: 0s - loss: 0.8659 - accuracy: 0.6574"
     ]
    },
    {
     "name": "stderr",
     "output_type": "stream",
     "text": [
      "WARNING:absl:Found untraced functions such as _jit_compiled_convolution_op, _jit_compiled_convolution_op, _update_step_xla while saving (showing 3 of 3). These functions will not be directly callable after loading.\n"
     ]
    },
    {
     "name": "stdout",
     "output_type": "stream",
     "text": [
      "INFO:tensorflow:Assets written to: model1\\assets\n"
     ]
    },
    {
     "name": "stderr",
     "output_type": "stream",
     "text": [
      "INFO:tensorflow:Assets written to: model1\\assets\n"
     ]
    },
    {
     "name": "stdout",
     "output_type": "stream",
     "text": [
      "6622/6622 [==============================] - 38s 6ms/step - loss: 0.8659 - accuracy: 0.6574 - val_loss: 0.8626 - val_accuracy: 0.6591\n",
      "Epoch 5/200\n",
      "6616/6622 [============================>.] - ETA: 0s - loss: 0.8574 - accuracy: 0.6609"
     ]
    },
    {
     "name": "stderr",
     "output_type": "stream",
     "text": [
      "WARNING:absl:Found untraced functions such as _jit_compiled_convolution_op, _jit_compiled_convolution_op, _update_step_xla while saving (showing 3 of 3). These functions will not be directly callable after loading.\n"
     ]
    },
    {
     "name": "stdout",
     "output_type": "stream",
     "text": [
      "INFO:tensorflow:Assets written to: model1\\assets\n"
     ]
    },
    {
     "name": "stderr",
     "output_type": "stream",
     "text": [
      "INFO:tensorflow:Assets written to: model1\\assets\n"
     ]
    },
    {
     "name": "stdout",
     "output_type": "stream",
     "text": [
      "6622/6622 [==============================] - 39s 6ms/step - loss: 0.8574 - accuracy: 0.6609 - val_loss: 0.8556 - val_accuracy: 0.6614\n",
      "Epoch 6/200\n",
      "6613/6622 [============================>.] - ETA: 0s - loss: 0.8500 - accuracy: 0.6642"
     ]
    },
    {
     "name": "stderr",
     "output_type": "stream",
     "text": [
      "WARNING:absl:Found untraced functions such as _jit_compiled_convolution_op, _jit_compiled_convolution_op, _update_step_xla while saving (showing 3 of 3). These functions will not be directly callable after loading.\n"
     ]
    },
    {
     "name": "stdout",
     "output_type": "stream",
     "text": [
      "INFO:tensorflow:Assets written to: model1\\assets\n"
     ]
    },
    {
     "name": "stderr",
     "output_type": "stream",
     "text": [
      "INFO:tensorflow:Assets written to: model1\\assets\n"
     ]
    },
    {
     "name": "stdout",
     "output_type": "stream",
     "text": [
      "6622/6622 [==============================] - 40s 6ms/step - loss: 0.8500 - accuracy: 0.6641 - val_loss: 0.8511 - val_accuracy: 0.6641\n",
      "Epoch 7/200\n",
      "6617/6622 [============================>.] - ETA: 0s - loss: 0.8434 - accuracy: 0.6676"
     ]
    },
    {
     "name": "stderr",
     "output_type": "stream",
     "text": [
      "WARNING:absl:Found untraced functions such as _jit_compiled_convolution_op, _jit_compiled_convolution_op, _update_step_xla while saving (showing 3 of 3). These functions will not be directly callable after loading.\n"
     ]
    },
    {
     "name": "stdout",
     "output_type": "stream",
     "text": [
      "INFO:tensorflow:Assets written to: model1\\assets\n"
     ]
    },
    {
     "name": "stderr",
     "output_type": "stream",
     "text": [
      "INFO:tensorflow:Assets written to: model1\\assets\n"
     ]
    },
    {
     "name": "stdout",
     "output_type": "stream",
     "text": [
      "6622/6622 [==============================] - 40s 6ms/step - loss: 0.8433 - accuracy: 0.6676 - val_loss: 0.8480 - val_accuracy: 0.6661\n",
      "Epoch 8/200\n",
      "6615/6622 [============================>.] - ETA: 0s - loss: 0.8376 - accuracy: 0.6704"
     ]
    },
    {
     "name": "stderr",
     "output_type": "stream",
     "text": [
      "WARNING:absl:Found untraced functions such as _jit_compiled_convolution_op, _jit_compiled_convolution_op, _update_step_xla while saving (showing 3 of 3). These functions will not be directly callable after loading.\n"
     ]
    },
    {
     "name": "stdout",
     "output_type": "stream",
     "text": [
      "INFO:tensorflow:Assets written to: model1\\assets\n"
     ]
    },
    {
     "name": "stderr",
     "output_type": "stream",
     "text": [
      "INFO:tensorflow:Assets written to: model1\\assets\n"
     ]
    },
    {
     "name": "stdout",
     "output_type": "stream",
     "text": [
      "6622/6622 [==============================] - 41s 6ms/step - loss: 0.8376 - accuracy: 0.6704 - val_loss: 0.8400 - val_accuracy: 0.6693\n",
      "Epoch 9/200\n",
      "6618/6622 [============================>.] - ETA: 0s - loss: 0.8325 - accuracy: 0.6728"
     ]
    },
    {
     "name": "stderr",
     "output_type": "stream",
     "text": [
      "WARNING:absl:Found untraced functions such as _jit_compiled_convolution_op, _jit_compiled_convolution_op, _update_step_xla while saving (showing 3 of 3). These functions will not be directly callable after loading.\n"
     ]
    },
    {
     "name": "stdout",
     "output_type": "stream",
     "text": [
      "INFO:tensorflow:Assets written to: model1\\assets\n"
     ]
    },
    {
     "name": "stderr",
     "output_type": "stream",
     "text": [
      "INFO:tensorflow:Assets written to: model1\\assets\n"
     ]
    },
    {
     "name": "stdout",
     "output_type": "stream",
     "text": [
      "6622/6622 [==============================] - 43s 6ms/step - loss: 0.8325 - accuracy: 0.6728 - val_loss: 0.8371 - val_accuracy: 0.6703\n",
      "Epoch 10/200\n",
      "6619/6622 [============================>.] - ETA: 0s - loss: 0.8282 - accuracy: 0.6745"
     ]
    },
    {
     "name": "stderr",
     "output_type": "stream",
     "text": [
      "WARNING:absl:Found untraced functions such as _jit_compiled_convolution_op, _jit_compiled_convolution_op, _update_step_xla while saving (showing 3 of 3). These functions will not be directly callable after loading.\n"
     ]
    },
    {
     "name": "stdout",
     "output_type": "stream",
     "text": [
      "INFO:tensorflow:Assets written to: model1\\assets\n"
     ]
    },
    {
     "name": "stderr",
     "output_type": "stream",
     "text": [
      "INFO:tensorflow:Assets written to: model1\\assets\n"
     ]
    },
    {
     "name": "stdout",
     "output_type": "stream",
     "text": [
      "6622/6622 [==============================] - 41s 6ms/step - loss: 0.8282 - accuracy: 0.6745 - val_loss: 0.8340 - val_accuracy: 0.6718\n",
      "Epoch 11/200\n",
      "6618/6622 [============================>.] - ETA: 0s - loss: 0.8244 - accuracy: 0.6761"
     ]
    },
    {
     "name": "stderr",
     "output_type": "stream",
     "text": [
      "WARNING:absl:Found untraced functions such as _jit_compiled_convolution_op, _jit_compiled_convolution_op, _update_step_xla while saving (showing 3 of 3). These functions will not be directly callable after loading.\n"
     ]
    },
    {
     "name": "stdout",
     "output_type": "stream",
     "text": [
      "INFO:tensorflow:Assets written to: model1\\assets\n"
     ]
    },
    {
     "name": "stderr",
     "output_type": "stream",
     "text": [
      "INFO:tensorflow:Assets written to: model1\\assets\n"
     ]
    },
    {
     "name": "stdout",
     "output_type": "stream",
     "text": [
      "6622/6622 [==============================] - 39s 6ms/step - loss: 0.8244 - accuracy: 0.6761 - val_loss: 0.8298 - val_accuracy: 0.6744\n",
      "Epoch 12/200\n",
      "6617/6622 [============================>.] - ETA: 0s - loss: 0.8212 - accuracy: 0.6777"
     ]
    },
    {
     "name": "stderr",
     "output_type": "stream",
     "text": [
      "WARNING:absl:Found untraced functions such as _jit_compiled_convolution_op, _jit_compiled_convolution_op, _update_step_xla while saving (showing 3 of 3). These functions will not be directly callable after loading.\n"
     ]
    },
    {
     "name": "stdout",
     "output_type": "stream",
     "text": [
      "INFO:tensorflow:Assets written to: model1\\assets\n"
     ]
    },
    {
     "name": "stderr",
     "output_type": "stream",
     "text": [
      "INFO:tensorflow:Assets written to: model1\\assets\n"
     ]
    },
    {
     "name": "stdout",
     "output_type": "stream",
     "text": [
      "6622/6622 [==============================] - 42s 6ms/step - loss: 0.8211 - accuracy: 0.6777 - val_loss: 0.8275 - val_accuracy: 0.6760\n",
      "Epoch 13/200\n",
      "6620/6622 [============================>.] - ETA: 0s - loss: 0.8184 - accuracy: 0.6789"
     ]
    },
    {
     "name": "stderr",
     "output_type": "stream",
     "text": [
      "WARNING:absl:Found untraced functions such as _jit_compiled_convolution_op, _jit_compiled_convolution_op, _update_step_xla while saving (showing 3 of 3). These functions will not be directly callable after loading.\n"
     ]
    },
    {
     "name": "stdout",
     "output_type": "stream",
     "text": [
      "INFO:tensorflow:Assets written to: model1\\assets\n"
     ]
    },
    {
     "name": "stderr",
     "output_type": "stream",
     "text": [
      "INFO:tensorflow:Assets written to: model1\\assets\n"
     ]
    },
    {
     "name": "stdout",
     "output_type": "stream",
     "text": [
      "6622/6622 [==============================] - 47s 7ms/step - loss: 0.8184 - accuracy: 0.6788 - val_loss: 0.8270 - val_accuracy: 0.6759\n",
      "Epoch 14/200\n",
      "6614/6622 [============================>.] - ETA: 0s - loss: 0.8157 - accuracy: 0.6801"
     ]
    },
    {
     "name": "stderr",
     "output_type": "stream",
     "text": [
      "WARNING:absl:Found untraced functions such as _jit_compiled_convolution_op, _jit_compiled_convolution_op, _update_step_xla while saving (showing 3 of 3). These functions will not be directly callable after loading.\n"
     ]
    },
    {
     "name": "stdout",
     "output_type": "stream",
     "text": [
      "INFO:tensorflow:Assets written to: model1\\assets\n"
     ]
    },
    {
     "name": "stderr",
     "output_type": "stream",
     "text": [
      "INFO:tensorflow:Assets written to: model1\\assets\n"
     ]
    },
    {
     "name": "stdout",
     "output_type": "stream",
     "text": [
      "6622/6622 [==============================] - 44s 7ms/step - loss: 0.8157 - accuracy: 0.6801 - val_loss: 0.8222 - val_accuracy: 0.6781\n",
      "Epoch 15/200\n",
      "6618/6622 [============================>.] - ETA: 0s - loss: 0.8133 - accuracy: 0.6812"
     ]
    },
    {
     "name": "stderr",
     "output_type": "stream",
     "text": [
      "WARNING:absl:Found untraced functions such as _jit_compiled_convolution_op, _jit_compiled_convolution_op, _update_step_xla while saving (showing 3 of 3). These functions will not be directly callable after loading.\n"
     ]
    },
    {
     "name": "stdout",
     "output_type": "stream",
     "text": [
      "INFO:tensorflow:Assets written to: model1\\assets\n"
     ]
    },
    {
     "name": "stderr",
     "output_type": "stream",
     "text": [
      "INFO:tensorflow:Assets written to: model1\\assets\n"
     ]
    },
    {
     "name": "stdout",
     "output_type": "stream",
     "text": [
      "6622/6622 [==============================] - 45s 7ms/step - loss: 0.8133 - accuracy: 0.6812 - val_loss: 0.8188 - val_accuracy: 0.6791\n",
      "Epoch 16/200\n",
      "6615/6622 [============================>.] - ETA: 0s - loss: 0.8112 - accuracy: 0.6822"
     ]
    },
    {
     "name": "stderr",
     "output_type": "stream",
     "text": [
      "WARNING:absl:Found untraced functions such as _jit_compiled_convolution_op, _jit_compiled_convolution_op, _update_step_xla while saving (showing 3 of 3). These functions will not be directly callable after loading.\n"
     ]
    },
    {
     "name": "stdout",
     "output_type": "stream",
     "text": [
      "INFO:tensorflow:Assets written to: model1\\assets\n"
     ]
    },
    {
     "name": "stderr",
     "output_type": "stream",
     "text": [
      "INFO:tensorflow:Assets written to: model1\\assets\n"
     ]
    },
    {
     "name": "stdout",
     "output_type": "stream",
     "text": [
      "6622/6622 [==============================] - 43s 7ms/step - loss: 0.8112 - accuracy: 0.6822 - val_loss: 0.8183 - val_accuracy: 0.6803\n",
      "Epoch 17/200\n",
      "6616/6622 [============================>.] - ETA: 0s - loss: 0.8091 - accuracy: 0.6830"
     ]
    },
    {
     "name": "stderr",
     "output_type": "stream",
     "text": [
      "WARNING:absl:Found untraced functions such as _jit_compiled_convolution_op, _jit_compiled_convolution_op, _update_step_xla while saving (showing 3 of 3). These functions will not be directly callable after loading.\n"
     ]
    },
    {
     "name": "stdout",
     "output_type": "stream",
     "text": [
      "INFO:tensorflow:Assets written to: model1\\assets\n"
     ]
    },
    {
     "name": "stderr",
     "output_type": "stream",
     "text": [
      "INFO:tensorflow:Assets written to: model1\\assets\n"
     ]
    },
    {
     "name": "stdout",
     "output_type": "stream",
     "text": [
      "6622/6622 [==============================] - 46s 7ms/step - loss: 0.8091 - accuracy: 0.6830 - val_loss: 0.8139 - val_accuracy: 0.6807\n",
      "Epoch 18/200\n",
      "6622/6622 [==============================] - 42s 6ms/step - loss: 0.8071 - accuracy: 0.6841 - val_loss: 0.8149 - val_accuracy: 0.6813\n",
      "Epoch 19/200\n",
      "6620/6622 [============================>.] - ETA: 0s - loss: 0.8054 - accuracy: 0.6850"
     ]
    },
    {
     "name": "stderr",
     "output_type": "stream",
     "text": [
      "WARNING:absl:Found untraced functions such as _jit_compiled_convolution_op, _jit_compiled_convolution_op, _update_step_xla while saving (showing 3 of 3). These functions will not be directly callable after loading.\n"
     ]
    },
    {
     "name": "stdout",
     "output_type": "stream",
     "text": [
      "INFO:tensorflow:Assets written to: model1\\assets\n"
     ]
    },
    {
     "name": "stderr",
     "output_type": "stream",
     "text": [
      "INFO:tensorflow:Assets written to: model1\\assets\n"
     ]
    },
    {
     "name": "stdout",
     "output_type": "stream",
     "text": [
      "6622/6622 [==============================] - 36s 5ms/step - loss: 0.8054 - accuracy: 0.6850 - val_loss: 0.8121 - val_accuracy: 0.6821\n",
      "Epoch 20/200\n",
      "6620/6622 [============================>.] - ETA: 0s - loss: 0.8038 - accuracy: 0.6857"
     ]
    },
    {
     "name": "stderr",
     "output_type": "stream",
     "text": [
      "WARNING:absl:Found untraced functions such as _jit_compiled_convolution_op, _jit_compiled_convolution_op, _update_step_xla while saving (showing 3 of 3). These functions will not be directly callable after loading.\n"
     ]
    },
    {
     "name": "stdout",
     "output_type": "stream",
     "text": [
      "INFO:tensorflow:Assets written to: model1\\assets\n"
     ]
    },
    {
     "name": "stderr",
     "output_type": "stream",
     "text": [
      "INFO:tensorflow:Assets written to: model1\\assets\n"
     ]
    },
    {
     "name": "stdout",
     "output_type": "stream",
     "text": [
      "6622/6622 [==============================] - 44s 7ms/step - loss: 0.8038 - accuracy: 0.6857 - val_loss: 0.8098 - val_accuracy: 0.6837\n",
      "Epoch 21/200\n",
      "6614/6622 [============================>.] - ETA: 0s - loss: 0.8024 - accuracy: 0.6862"
     ]
    },
    {
     "name": "stderr",
     "output_type": "stream",
     "text": [
      "WARNING:absl:Found untraced functions such as _jit_compiled_convolution_op, _jit_compiled_convolution_op, _update_step_xla while saving (showing 3 of 3). These functions will not be directly callable after loading.\n"
     ]
    },
    {
     "name": "stdout",
     "output_type": "stream",
     "text": [
      "INFO:tensorflow:Assets written to: model1\\assets\n"
     ]
    },
    {
     "name": "stderr",
     "output_type": "stream",
     "text": [
      "INFO:tensorflow:Assets written to: model1\\assets\n"
     ]
    },
    {
     "name": "stdout",
     "output_type": "stream",
     "text": [
      "6622/6622 [==============================] - 43s 7ms/step - loss: 0.8024 - accuracy: 0.6862 - val_loss: 0.8096 - val_accuracy: 0.6839\n",
      "Epoch 22/200\n",
      "6622/6622 [==============================] - 42s 6ms/step - loss: 0.8008 - accuracy: 0.6871 - val_loss: 0.8096 - val_accuracy: 0.6841\n",
      "Epoch 23/200\n",
      "6622/6622 [==============================] - ETA: 0s - loss: 0.7998 - accuracy: 0.6875"
     ]
    },
    {
     "name": "stderr",
     "output_type": "stream",
     "text": [
      "WARNING:absl:Found untraced functions such as _jit_compiled_convolution_op, _jit_compiled_convolution_op, _update_step_xla while saving (showing 3 of 3). These functions will not be directly callable after loading.\n"
     ]
    },
    {
     "name": "stdout",
     "output_type": "stream",
     "text": [
      "INFO:tensorflow:Assets written to: model1\\assets\n"
     ]
    },
    {
     "name": "stderr",
     "output_type": "stream",
     "text": [
      "INFO:tensorflow:Assets written to: model1\\assets\n"
     ]
    },
    {
     "name": "stdout",
     "output_type": "stream",
     "text": [
      "6622/6622 [==============================] - 43s 7ms/step - loss: 0.7998 - accuracy: 0.6875 - val_loss: 0.8078 - val_accuracy: 0.6856\n",
      "Epoch 24/200\n",
      "6622/6622 [==============================] - 41s 6ms/step - loss: 0.7984 - accuracy: 0.6882 - val_loss: 0.8086 - val_accuracy: 0.6843\n",
      "Epoch 25/200\n",
      "6617/6622 [============================>.] - ETA: 0s - loss: 0.7973 - accuracy: 0.6889"
     ]
    },
    {
     "name": "stderr",
     "output_type": "stream",
     "text": [
      "WARNING:absl:Found untraced functions such as _jit_compiled_convolution_op, _jit_compiled_convolution_op, _update_step_xla while saving (showing 3 of 3). These functions will not be directly callable after loading.\n"
     ]
    },
    {
     "name": "stdout",
     "output_type": "stream",
     "text": [
      "INFO:tensorflow:Assets written to: model1\\assets\n"
     ]
    },
    {
     "name": "stderr",
     "output_type": "stream",
     "text": [
      "INFO:tensorflow:Assets written to: model1\\assets\n"
     ]
    },
    {
     "name": "stdout",
     "output_type": "stream",
     "text": [
      "6622/6622 [==============================] - 42s 6ms/step - loss: 0.7973 - accuracy: 0.6889 - val_loss: 0.8049 - val_accuracy: 0.6859\n",
      "Epoch 26/200\n",
      "6622/6622 [==============================] - 41s 6ms/step - loss: 0.7962 - accuracy: 0.6892 - val_loss: 0.8051 - val_accuracy: 0.6853\n",
      "Epoch 27/200\n",
      "6617/6622 [============================>.] - ETA: 0s - loss: 0.7952 - accuracy: 0.6898"
     ]
    },
    {
     "name": "stderr",
     "output_type": "stream",
     "text": [
      "WARNING:absl:Found untraced functions such as _jit_compiled_convolution_op, _jit_compiled_convolution_op, _update_step_xla while saving (showing 3 of 3). These functions will not be directly callable after loading.\n"
     ]
    },
    {
     "name": "stdout",
     "output_type": "stream",
     "text": [
      "INFO:tensorflow:Assets written to: model1\\assets\n"
     ]
    },
    {
     "name": "stderr",
     "output_type": "stream",
     "text": [
      "INFO:tensorflow:Assets written to: model1\\assets\n"
     ]
    },
    {
     "name": "stdout",
     "output_type": "stream",
     "text": [
      "6622/6622 [==============================] - 42s 6ms/step - loss: 0.7952 - accuracy: 0.6898 - val_loss: 0.8036 - val_accuracy: 0.6861\n",
      "Epoch 28/200\n",
      "6615/6622 [============================>.] - ETA: 0s - loss: 0.7939 - accuracy: 0.6905"
     ]
    },
    {
     "name": "stderr",
     "output_type": "stream",
     "text": [
      "WARNING:absl:Found untraced functions such as _jit_compiled_convolution_op, _jit_compiled_convolution_op, _update_step_xla while saving (showing 3 of 3). These functions will not be directly callable after loading.\n"
     ]
    },
    {
     "name": "stdout",
     "output_type": "stream",
     "text": [
      "INFO:tensorflow:Assets written to: model1\\assets\n"
     ]
    },
    {
     "name": "stderr",
     "output_type": "stream",
     "text": [
      "INFO:tensorflow:Assets written to: model1\\assets\n"
     ]
    },
    {
     "name": "stdout",
     "output_type": "stream",
     "text": [
      "6622/6622 [==============================] - 42s 6ms/step - loss: 0.7939 - accuracy: 0.6905 - val_loss: 0.8034 - val_accuracy: 0.6864\n",
      "Epoch 29/200\n",
      "6619/6622 [============================>.] - ETA: 0s - loss: 0.7931 - accuracy: 0.6908"
     ]
    },
    {
     "name": "stderr",
     "output_type": "stream",
     "text": [
      "WARNING:absl:Found untraced functions such as _jit_compiled_convolution_op, _jit_compiled_convolution_op, _update_step_xla while saving (showing 3 of 3). These functions will not be directly callable after loading.\n"
     ]
    },
    {
     "name": "stdout",
     "output_type": "stream",
     "text": [
      "INFO:tensorflow:Assets written to: model1\\assets\n"
     ]
    },
    {
     "name": "stderr",
     "output_type": "stream",
     "text": [
      "INFO:tensorflow:Assets written to: model1\\assets\n"
     ]
    },
    {
     "name": "stdout",
     "output_type": "stream",
     "text": [
      "6622/6622 [==============================] - 41s 6ms/step - loss: 0.7932 - accuracy: 0.6908 - val_loss: 0.8012 - val_accuracy: 0.6879\n",
      "Epoch 30/200\n",
      "6622/6622 [==============================] - 41s 6ms/step - loss: 0.7923 - accuracy: 0.6912 - val_loss: 0.8023 - val_accuracy: 0.6872\n",
      "Epoch 31/200\n",
      "6618/6622 [============================>.] - ETA: 0s - loss: 0.7913 - accuracy: 0.6917"
     ]
    },
    {
     "name": "stderr",
     "output_type": "stream",
     "text": [
      "WARNING:absl:Found untraced functions such as _jit_compiled_convolution_op, _jit_compiled_convolution_op, _update_step_xla while saving (showing 3 of 3). These functions will not be directly callable after loading.\n"
     ]
    },
    {
     "name": "stdout",
     "output_type": "stream",
     "text": [
      "INFO:tensorflow:Assets written to: model1\\assets\n"
     ]
    },
    {
     "name": "stderr",
     "output_type": "stream",
     "text": [
      "INFO:tensorflow:Assets written to: model1\\assets\n"
     ]
    },
    {
     "name": "stdout",
     "output_type": "stream",
     "text": [
      "6622/6622 [==============================] - 41s 6ms/step - loss: 0.7913 - accuracy: 0.6917 - val_loss: 0.7999 - val_accuracy: 0.6886\n",
      "Epoch 32/200\n",
      "6622/6622 [==============================] - 38s 6ms/step - loss: 0.7905 - accuracy: 0.6918 - val_loss: 0.8009 - val_accuracy: 0.6876\n",
      "Epoch 33/200\n",
      "6622/6622 [==============================] - ETA: 0s - loss: 0.7897 - accuracy: 0.6924"
     ]
    },
    {
     "name": "stderr",
     "output_type": "stream",
     "text": [
      "WARNING:absl:Found untraced functions such as _jit_compiled_convolution_op, _jit_compiled_convolution_op, _update_step_xla while saving (showing 3 of 3). These functions will not be directly callable after loading.\n"
     ]
    },
    {
     "name": "stdout",
     "output_type": "stream",
     "text": [
      "INFO:tensorflow:Assets written to: model1\\assets\n"
     ]
    },
    {
     "name": "stderr",
     "output_type": "stream",
     "text": [
      "INFO:tensorflow:Assets written to: model1\\assets\n"
     ]
    },
    {
     "name": "stdout",
     "output_type": "stream",
     "text": [
      "6622/6622 [==============================] - 38s 6ms/step - loss: 0.7897 - accuracy: 0.6924 - val_loss: 0.7994 - val_accuracy: 0.6888\n",
      "Epoch 34/200\n",
      "6619/6622 [============================>.] - ETA: 0s - loss: 0.7888 - accuracy: 0.6932"
     ]
    },
    {
     "name": "stderr",
     "output_type": "stream",
     "text": [
      "WARNING:absl:Found untraced functions such as _jit_compiled_convolution_op, _jit_compiled_convolution_op, _update_step_xla while saving (showing 3 of 3). These functions will not be directly callable after loading.\n"
     ]
    },
    {
     "name": "stdout",
     "output_type": "stream",
     "text": [
      "INFO:tensorflow:Assets written to: model1\\assets\n"
     ]
    },
    {
     "name": "stderr",
     "output_type": "stream",
     "text": [
      "INFO:tensorflow:Assets written to: model1\\assets\n"
     ]
    },
    {
     "name": "stdout",
     "output_type": "stream",
     "text": [
      "6622/6622 [==============================] - 39s 6ms/step - loss: 0.7888 - accuracy: 0.6932 - val_loss: 0.7980 - val_accuracy: 0.6899\n",
      "Epoch 35/200\n",
      "6622/6622 [==============================] - 38s 6ms/step - loss: 0.7881 - accuracy: 0.6936 - val_loss: 0.7981 - val_accuracy: 0.6895\n",
      "Epoch 36/200\n",
      "6622/6622 [==============================] - 41s 6ms/step - loss: 0.7874 - accuracy: 0.6935 - val_loss: 0.7983 - val_accuracy: 0.6896\n"
     ]
    },
    {
     "data": {
      "image/png": "[encoded data removed]",
      "text/plain": [
       "<Figure size 640x480 with 1 Axes>"
      ]
     },
     "metadata": {},
     "output_type": "display_data"
    },
    {
     "data": {
      "image/png": "[encoded data removed]",
      "text/plain": [
       "<Figure size 640x480 with 1 Axes>"
      ]
     },
     "metadata": {},
     "output_type": "display_data"
    }
   ],
   "source": [
    "Path = \"model1\"\n",
    "Dir = \"my_log_dir\"   \n",
    "Call_B_Fun = callbacks(Path,Dir)\n",
    "\n",
    "batch_size = 512            \n",
    "epochs = 200                \n",
    "\n",
    "history = model.fit(x_train.reshape(x_train.shape[0],8,1), y_train,\n",
    "                    batch_size=batch_size, epochs = epochs,\n",
    "                    validation_split = 0.2, callbacks=Call_B_Fun,\n",
    "                    validation_data=(x_test.reshape(x_test.shape[0],8,1), y_test))\n",
    "\n",
    "\n",
    "loss = history.history['loss']\n",
    "val_loss = history.history['val_loss']\n",
    "acc = history.history['accuracy']\n",
    "val_acc = history.history['val_accuracy']\n",
    "plot(loss,val_loss,acc,val_acc)"
   ]
  }
 ],
 "metadata": {
  "kernelspec": {
   "display_name": "Python 3",
   "language": "python",
   "name": "python3"
  },
  "language_info": {
   "codemirror_mode": {
    "name": "ipython",
    "version": 3
   },
   "file_extension": ".py",
   "mimetype": "text/x-python",
   "name": "python",
   "nbconvert_exporter": "python",
   "pygments_lexer": "ipython3",
   "version": "3.11.0"
  },
  "orig_nbformat": 4
 },
 "nbformat": 4,
 "nbformat_minor": 2
}
